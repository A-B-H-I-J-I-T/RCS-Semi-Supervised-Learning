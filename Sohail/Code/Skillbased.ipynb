{
 "cells": [
  {
   "cell_type": "code",
   "execution_count": 2,
   "metadata": {},
   "outputs": [
    {
     "name": "stdout",
     "output_type": "stream",
     "text": [
      "Collecting pyswarm\n",
      "  Downloading pyswarm-0.6.tar.gz (4.3 kB)\n",
      "  Preparing metadata (setup.py): started\n",
      "  Preparing metadata (setup.py): finished with status 'done'\n",
      "Requirement already satisfied: numpy in c:\\users\\abhij\\anaconda3\\lib\\site-packages (from pyswarm) (1.20.1)\n",
      "Building wheels for collected packages: pyswarm\n",
      "  Building wheel for pyswarm (setup.py): started\n",
      "  Building wheel for pyswarm (setup.py): finished with status 'done'\n",
      "  Created wheel for pyswarm: filename=pyswarm-0.6-py3-none-any.whl size=4465 sha256=e8e57883f7d2c153a88c9609b45ac8931c460b4a6b3cf71812f1ae1c10404928\n",
      "  Stored in directory: c:\\users\\abhij\\appdata\\local\\pip\\cache\\wheels\\ea\\29\\44\\e16a13fb8c418bcbc71cd4c3e1001b51f4cebb9b825d607763\n",
      "Successfully built pyswarm\n",
      "Installing collected packages: pyswarm\n",
      "Successfully installed pyswarm-0.6\n"
     ]
    },
    {
     "name": "stderr",
     "output_type": "stream",
     "text": [
      "\n",
      "[notice] A new release of pip available: 22.3.1 -> 23.0.1\n",
      "[notice] To update, run: python.exe -m pip install --upgrade pip\n"
     ]
    }
   ],
   "source": [
    "!pip install pyswarm\n"
   ]
  },
  {
   "cell_type": "code",
   "execution_count": 4,
   "metadata": {},
   "outputs": [],
   "source": [
    "import networkx as nx\n",
    "import numpy as np\n",
    "import pyswarm\n",
    "\n",
    "def build_team(self, network, skillsets):\n",
    "       \n",
    "\n",
    "        # Load the graph from file\n",
    "        graph = nx.read_gml(\"../Data/dblp-\" + self.year + \"/\" + network + \".gml\")\n",
    "\n",
    "        # Define the required skills\n",
    "        required_skills = skillsets\n",
    "\n",
    "        # Define the objective function to minimize\n",
    "        def objective_function(x):\n",
    "            team_skills = set()\n",
    "            team_communication_cost = 0\n",
    "    \n",
    "            # Add authors with non-zero weight to the team\n",
    "            for i in range(len(x)):\n",
    "                if x[i] > 0:\n",
    "                    node = list(graph.nodes)[i]\n",
    "                    author_skills = set(graph.nodes[node]['skills'])\n",
    "                    team_skills |= author_skills\n",
    "                    for j in range(i+1, len(x)):\n",
    "                        if x[j] > 0:\n",
    "                            neighbor = list(graph.nodes)[j]\n",
    "                            if graph.has_edge(node, neighbor):\n",
    "                                team_communication_cost += graph[node][neighbor]['cc']\n",
    "    \n",
    "            # Calculate the objective value\n",
    "            missing_skills = required_skills - team_skills\n",
    "            objective_value = len(missing_skills) + team_communication_cost\n",
    "            return objective_value\n",
    "\n",
    "        # Define the bounds for the decision variables\n",
    "        bounds = [(0, 1)] * len(graph.nodes)\n",
    "\n",
    "        # Use PSO to minimize the objective function\n",
    "        x_opt, f_opt = pyswarm.pso(objective_function, *zip(*bounds), swarmsize=50, maxiter=100)\n",
    "\n",
    "        # Print the optimal team\n",
    "        team = []\n",
    "        for i in range(len(x_opt)):\n",
    "            if x_opt[i] > 0:\n",
    "                team.append(list(graph.nodes)[i])\n",
    "        print(f'Optimal team: {\", \".join(team)}')"
   ]
  }
 ],
 "metadata": {
  "kernelspec": {
   "display_name": "base",
   "language": "python",
   "name": "python3"
  },
  "language_info": {
   "codemirror_mode": {
    "name": "ipython",
    "version": 3
   },
   "file_extension": ".py",
   "mimetype": "text/x-python",
   "name": "python",
   "nbconvert_exporter": "python",
   "pygments_lexer": "ipython3",
   "version": "3.8.8"
  },
  "orig_nbformat": 4
 },
 "nbformat": 4,
 "nbformat_minor": 2
}
