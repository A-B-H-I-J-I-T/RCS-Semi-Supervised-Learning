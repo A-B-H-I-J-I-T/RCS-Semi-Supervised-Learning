{
 "cells": [
  {
   "cell_type": "code",
   "execution_count": 1,
   "metadata": {},
   "outputs": [],
   "source": [
    "#import all the required libraries\n",
    "import pandas as pd"
   ]
  },
  {
   "cell_type": "code",
   "execution_count": 2,
   "metadata": {},
   "outputs": [
    {
     "name": "stdout",
     "output_type": "stream",
     "text": [
      "(1723, 14)\n"
     ]
    }
   ],
   "source": [
    "#load data sets\n",
    "df_cust = pd.read_csv('..\\Data\\Customer.csv')\n",
    "print(df_cust.shape)"
   ]
  },
  {
   "cell_type": "markdown",
   "metadata": {},
   "source": [
    "### a. Let's find missing values"
   ]
  },
  {
   "cell_type": "code",
   "execution_count": 3,
   "metadata": {},
   "outputs": [
    {
     "name": "stdout",
     "output_type": "stream",
     "text": [
      "Missings values\n",
      " month                  0\n",
      "credit_amount          0\n",
      "credit_term            0\n",
      "age                    0\n",
      "sex                    0\n",
      "education              0\n",
      "product_type           0\n",
      "having_children_flg    0\n",
      "region                 0\n",
      "income                 0\n",
      "family_status          0\n",
      "phone_operator         0\n",
      "is_client              0\n",
      "bad_client_target      0\n",
      "dtype: int64\n",
      "\n",
      "There are no missing values in the data set\n"
     ]
    }
   ],
   "source": [
    "# missing values\n",
    "missing_val = df_cust.isnull().sum()\n",
    "\n",
    "print(\"Missings values\\n\",missing_val)\n",
    "#there is no missing value in the data set\n",
    "print(\"\\nThere are no missing values in the data set\")"
   ]
  },
  {
   "cell_type": "markdown",
   "metadata": {},
   "source": [
    "#### b. Drop any duplicate values"
   ]
  },
  {
   "cell_type": "code",
   "execution_count": 4,
   "metadata": {},
   "outputs": [
    {
     "name": "stdout",
     "output_type": "stream",
     "text": [
      "Total no of duplicate rows  0\n"
     ]
    }
   ],
   "source": [
    "#drop any duplicate rows in the dataset\n",
    "#lets find duplicate rows in dataset\n",
    "duplicate_row_count = df_cust.duplicated().sum()\n",
    "print(\"Total no of duplicate rows \",duplicate_row_count)\n"
   ]
  },
  {
   "cell_type": "markdown",
   "metadata": {},
   "source": [
    "#### c. Find the outliers in the numeric columns"
   ]
  },
  {
   "cell_type": "code",
   "execution_count": 5,
   "metadata": {},
   "outputs": [
    {
     "name": "stdout",
     "output_type": "stream",
     "text": [
      "Count of outliers in credit amount 39\n",
      "Count of outliers in credit term 39\n",
      "Count of outliers in age 14\n",
      "Count of outliers in income 31\n",
      "the percentage of outliers are very less 2.2%, we can leave it as it\n"
     ]
    }
   ],
   "source": [
    "#numeric column 'credit_amount', 'credit_term', 'age', 'income', \n",
    "\n",
    "# import seaborn as sns\n",
    "# sns.boxplot(x=df_cust['credit_amount'])\n",
    "# sns.boxplot(x=df_cust['credit_term'])\n",
    "# sns.boxplot(x=df_cust['age'])\n",
    "# sns.boxplot(x=df_cust['income'])\n",
    "\n",
    "#find the count of outliers\n",
    "from scipy.stats import zscore\n",
    "z_scores = zscore(df_cust['credit_amount'])\n",
    "outliers = (abs(z_scores) > 3)\n",
    "print(\"Count of outliers in credit amount\",outliers.sum())\n",
    "\n",
    "z_scores = zscore(df_cust['credit_term'])\n",
    "outliers = (abs(z_scores) > 3)\n",
    "print(\"Count of outliers in credit term\",outliers.sum())\n",
    "\n",
    "z_scores = zscore(df_cust['age'])\n",
    "outliers = (abs(z_scores) > 3)\n",
    "print(\"Count of outliers in age\",outliers.sum())\n",
    "\n",
    "z_scores = zscore(df_cust['income'])\n",
    "outliers = (abs(z_scores) > 3)\n",
    "print(\"Count of outliers in income\",outliers.sum())\n",
    "\n",
    "# the percentage of outliers are very less 2.2%, we can leave it as it \n",
    "\n",
    "print(\"the percentage of outliers are very less 2.2%, we can leave it as it\")\n"
   ]
  },
  {
   "cell_type": "markdown",
   "metadata": {},
   "source": [
    "#### d. Normalize the data"
   ]
  },
  {
   "cell_type": "code",
   "execution_count": 6,
   "metadata": {},
   "outputs": [
    {
     "data": {
      "text/html": [
       "<div>\n",
       "<style scoped>\n",
       "    .dataframe tbody tr th:only-of-type {\n",
       "        vertical-align: middle;\n",
       "    }\n",
       "\n",
       "    .dataframe tbody tr th {\n",
       "        vertical-align: top;\n",
       "    }\n",
       "\n",
       "    .dataframe thead th {\n",
       "        text-align: right;\n",
       "    }\n",
       "</style>\n",
       "<table border=\"1\" class=\"dataframe\">\n",
       "  <thead>\n",
       "    <tr style=\"text-align: right;\">\n",
       "      <th></th>\n",
       "      <th>month</th>\n",
       "      <th>credit_amount</th>\n",
       "      <th>credit_term</th>\n",
       "      <th>age</th>\n",
       "      <th>sex</th>\n",
       "      <th>education</th>\n",
       "      <th>product_type</th>\n",
       "      <th>having_children_flg</th>\n",
       "      <th>region</th>\n",
       "      <th>income</th>\n",
       "      <th>family_status</th>\n",
       "      <th>phone_operator</th>\n",
       "      <th>is_client</th>\n",
       "      <th>bad_client_target</th>\n",
       "    </tr>\n",
       "  </thead>\n",
       "  <tbody>\n",
       "    <tr>\n",
       "      <th>0</th>\n",
       "      <td>1</td>\n",
       "      <td>0.006757</td>\n",
       "      <td>0.272727</td>\n",
       "      <td>0.291667</td>\n",
       "      <td>male</td>\n",
       "      <td>Secondary special education</td>\n",
       "      <td>Cell phones</td>\n",
       "      <td>0</td>\n",
       "      <td>2</td>\n",
       "      <td>0.0500</td>\n",
       "      <td>Another</td>\n",
       "      <td>0</td>\n",
       "      <td>0</td>\n",
       "      <td>0</td>\n",
       "    </tr>\n",
       "    <tr>\n",
       "      <th>1</th>\n",
       "      <td>1</td>\n",
       "      <td>0.047297</td>\n",
       "      <td>0.090909</td>\n",
       "      <td>0.027778</td>\n",
       "      <td>male</td>\n",
       "      <td>Secondary special education</td>\n",
       "      <td>Household appliances</td>\n",
       "      <td>1</td>\n",
       "      <td>2</td>\n",
       "      <td>0.0400</td>\n",
       "      <td>Another</td>\n",
       "      <td>3</td>\n",
       "      <td>1</td>\n",
       "      <td>0</td>\n",
       "    </tr>\n",
       "    <tr>\n",
       "      <th>2</th>\n",
       "      <td>1</td>\n",
       "      <td>0.081081</td>\n",
       "      <td>0.272727</td>\n",
       "      <td>0.069444</td>\n",
       "      <td>female</td>\n",
       "      <td>Secondary special education</td>\n",
       "      <td>Household appliances</td>\n",
       "      <td>0</td>\n",
       "      <td>2</td>\n",
       "      <td>0.0750</td>\n",
       "      <td>Another</td>\n",
       "      <td>2</td>\n",
       "      <td>0</td>\n",
       "      <td>0</td>\n",
       "    </tr>\n",
       "    <tr>\n",
       "      <th>3</th>\n",
       "      <td>1</td>\n",
       "      <td>0.016892</td>\n",
       "      <td>0.272727</td>\n",
       "      <td>0.166667</td>\n",
       "      <td>male</td>\n",
       "      <td>Secondary special education</td>\n",
       "      <td>Cell phones</td>\n",
       "      <td>1</td>\n",
       "      <td>2</td>\n",
       "      <td>0.0750</td>\n",
       "      <td>Unmarried</td>\n",
       "      <td>3</td>\n",
       "      <td>1</td>\n",
       "      <td>0</td>\n",
       "    </tr>\n",
       "    <tr>\n",
       "      <th>4</th>\n",
       "      <td>1</td>\n",
       "      <td>0.032095</td>\n",
       "      <td>0.272727</td>\n",
       "      <td>0.097222</td>\n",
       "      <td>female</td>\n",
       "      <td>Higher education</td>\n",
       "      <td>Cell phones</td>\n",
       "      <td>0</td>\n",
       "      <td>2</td>\n",
       "      <td>0.0625</td>\n",
       "      <td>Married</td>\n",
       "      <td>0</td>\n",
       "      <td>1</td>\n",
       "      <td>0</td>\n",
       "    </tr>\n",
       "  </tbody>\n",
       "</table>\n",
       "</div>"
      ],
      "text/plain": [
       "   month  credit_amount  credit_term       age     sex  \\\n",
       "0      1       0.006757     0.272727  0.291667    male   \n",
       "1      1       0.047297     0.090909  0.027778    male   \n",
       "2      1       0.081081     0.272727  0.069444  female   \n",
       "3      1       0.016892     0.272727  0.166667    male   \n",
       "4      1       0.032095     0.272727  0.097222  female   \n",
       "\n",
       "                     education          product_type  having_children_flg  \\\n",
       "0  Secondary special education           Cell phones                    0   \n",
       "1  Secondary special education  Household appliances                    1   \n",
       "2  Secondary special education  Household appliances                    0   \n",
       "3  Secondary special education           Cell phones                    1   \n",
       "4             Higher education           Cell phones                    0   \n",
       "\n",
       "   region  income family_status  phone_operator  is_client  bad_client_target  \n",
       "0       2  0.0500       Another               0          0                  0  \n",
       "1       2  0.0400       Another               3          1                  0  \n",
       "2       2  0.0750       Another               2          0                  0  \n",
       "3       2  0.0750     Unmarried               3          1                  0  \n",
       "4       2  0.0625       Married               0          1                  0  "
      ]
     },
     "execution_count": 6,
     "metadata": {},
     "output_type": "execute_result"
    }
   ],
   "source": [
    "from sklearn.preprocessing import MinMaxScaler\n",
    "\n",
    "# Create a MinMaxScaler instance\n",
    "scaler = MinMaxScaler()\n",
    "\n",
    "# Fit the scaler to the data and transform it\n",
    "df_normalized = scaler.fit_transform(df_cust[['credit_amount', 'credit_term', 'age', 'income']])\n",
    "\n",
    "# df_normalized = pd.DataFrame(df_normalized)\n",
    "# df_normalized.head()\n",
    "\n",
    "df_cleaned = df_cust.copy()\n",
    "\n",
    "df_cleaned[['credit_amount', 'credit_term', 'age', 'income']] = df_normalized\n",
    "\n",
    "df_cleaned.head()\n"
   ]
  },
  {
   "cell_type": "code",
   "execution_count": 7,
   "metadata": {},
   "outputs": [
    {
     "data": {
      "image/png": "[encoded data removed]",
      "text/plain": [
       "<Figure size 720x432 with 1 Axes>"
      ]
     },
     "metadata": {
      "needs_background": "light"
     },
     "output_type": "display_data"
    }
   ],
   "source": [
    "# Plotting the distribution\n",
    "import matplotlib.pyplot as plt\n",
    "plt.figure(figsize=(10, 6))  # Adjust the figure size as needed\n",
    "df_cleaned['credit_amount'].hist(bins=200, color='blue', edgecolor='black')  # Adjust the number of bins as needed\n",
    "plt.title('Distribution of Column Name')\n",
    "plt.xlabel('Column Name')\n",
    "plt.ylabel('Frequency')\n",
    "plt.show()"
   ]
  },
  {
   "cell_type": "markdown",
   "metadata": {},
   "source": [
    "#### e. Correct the datatype "
   ]
  },
  {
   "cell_type": "code",
   "execution_count": 8,
   "metadata": {},
   "outputs": [
    {
     "data": {
      "text/html": [
       "<div>\n",
       "<style scoped>\n",
       "    .dataframe tbody tr th:only-of-type {\n",
       "        vertical-align: middle;\n",
       "    }\n",
       "\n",
       "    .dataframe tbody tr th {\n",
       "        vertical-align: top;\n",
       "    }\n",
       "\n",
       "    .dataframe thead th {\n",
       "        text-align: right;\n",
       "    }\n",
       "</style>\n",
       "<table border=\"1\" class=\"dataframe\">\n",
       "  <thead>\n",
       "    <tr style=\"text-align: right;\">\n",
       "      <th></th>\n",
       "      <th>month</th>\n",
       "      <th>credit_amount</th>\n",
       "      <th>credit_term</th>\n",
       "      <th>age</th>\n",
       "      <th>sex</th>\n",
       "      <th>education</th>\n",
       "      <th>product_type</th>\n",
       "      <th>having_children_flg</th>\n",
       "      <th>region</th>\n",
       "      <th>income</th>\n",
       "      <th>family_status</th>\n",
       "      <th>phone_operator</th>\n",
       "      <th>is_client</th>\n",
       "      <th>bad_client_target</th>\n",
       "    </tr>\n",
       "  </thead>\n",
       "  <tbody>\n",
       "    <tr>\n",
       "      <th>0</th>\n",
       "      <td>1</td>\n",
       "      <td>0.006757</td>\n",
       "      <td>0.272727</td>\n",
       "      <td>0.291667</td>\n",
       "      <td>male</td>\n",
       "      <td>Secondary special education</td>\n",
       "      <td>Cell phones</td>\n",
       "      <td>0</td>\n",
       "      <td>2</td>\n",
       "      <td>0.0500</td>\n",
       "      <td>Another</td>\n",
       "      <td>0</td>\n",
       "      <td>0</td>\n",
       "      <td>0</td>\n",
       "    </tr>\n",
       "    <tr>\n",
       "      <th>1</th>\n",
       "      <td>1</td>\n",
       "      <td>0.047297</td>\n",
       "      <td>0.090909</td>\n",
       "      <td>0.027778</td>\n",
       "      <td>male</td>\n",
       "      <td>Secondary special education</td>\n",
       "      <td>Household appliances</td>\n",
       "      <td>1</td>\n",
       "      <td>2</td>\n",
       "      <td>0.0400</td>\n",
       "      <td>Another</td>\n",
       "      <td>3</td>\n",
       "      <td>1</td>\n",
       "      <td>0</td>\n",
       "    </tr>\n",
       "    <tr>\n",
       "      <th>2</th>\n",
       "      <td>1</td>\n",
       "      <td>0.081081</td>\n",
       "      <td>0.272727</td>\n",
       "      <td>0.069444</td>\n",
       "      <td>female</td>\n",
       "      <td>Secondary special education</td>\n",
       "      <td>Household appliances</td>\n",
       "      <td>0</td>\n",
       "      <td>2</td>\n",
       "      <td>0.0750</td>\n",
       "      <td>Another</td>\n",
       "      <td>2</td>\n",
       "      <td>0</td>\n",
       "      <td>0</td>\n",
       "    </tr>\n",
       "    <tr>\n",
       "      <th>3</th>\n",
       "      <td>1</td>\n",
       "      <td>0.016892</td>\n",
       "      <td>0.272727</td>\n",
       "      <td>0.166667</td>\n",
       "      <td>male</td>\n",
       "      <td>Secondary special education</td>\n",
       "      <td>Cell phones</td>\n",
       "      <td>1</td>\n",
       "      <td>2</td>\n",
       "      <td>0.0750</td>\n",
       "      <td>Unmarried</td>\n",
       "      <td>3</td>\n",
       "      <td>1</td>\n",
       "      <td>0</td>\n",
       "    </tr>\n",
       "    <tr>\n",
       "      <th>4</th>\n",
       "      <td>1</td>\n",
       "      <td>0.032095</td>\n",
       "      <td>0.272727</td>\n",
       "      <td>0.097222</td>\n",
       "      <td>female</td>\n",
       "      <td>Higher education</td>\n",
       "      <td>Cell phones</td>\n",
       "      <td>0</td>\n",
       "      <td>2</td>\n",
       "      <td>0.0625</td>\n",
       "      <td>Married</td>\n",
       "      <td>0</td>\n",
       "      <td>1</td>\n",
       "      <td>0</td>\n",
       "    </tr>\n",
       "  </tbody>\n",
       "</table>\n",
       "</div>"
      ],
      "text/plain": [
       "   month  credit_amount  credit_term       age     sex  \\\n",
       "0      1       0.006757     0.272727  0.291667    male   \n",
       "1      1       0.047297     0.090909  0.027778    male   \n",
       "2      1       0.081081     0.272727  0.069444  female   \n",
       "3      1       0.016892     0.272727  0.166667    male   \n",
       "4      1       0.032095     0.272727  0.097222  female   \n",
       "\n",
       "                     education          product_type  having_children_flg  \\\n",
       "0  Secondary special education           Cell phones                    0   \n",
       "1  Secondary special education  Household appliances                    1   \n",
       "2  Secondary special education  Household appliances                    0   \n",
       "3  Secondary special education           Cell phones                    1   \n",
       "4             Higher education           Cell phones                    0   \n",
       "\n",
       "   region  income family_status  phone_operator  is_client  bad_client_target  \n",
       "0       2  0.0500       Another               0          0                  0  \n",
       "1       2  0.0400       Another               3          1                  0  \n",
       "2       2  0.0750       Another               2          0                  0  \n",
       "3       2  0.0750     Unmarried               3          1                  0  \n",
       "4       2  0.0625       Married               0          1                  0  "
      ]
     },
     "execution_count": 8,
     "metadata": {},
     "output_type": "execute_result"
    }
   ],
   "source": [
    "df_cleaned.head()"
   ]
  },
  {
   "cell_type": "code",
   "execution_count": 9,
   "metadata": {},
   "outputs": [
    {
     "name": "stdout",
     "output_type": "stream",
     "text": [
      "month                  category\n",
      "credit_amount           float64\n",
      "credit_term             float64\n",
      "age                     float64\n",
      "sex                    category\n",
      "education              category\n",
      "product_type           category\n",
      "having_children_flg    category\n",
      "region                 category\n",
      "income                  float64\n",
      "family_status          category\n",
      "phone_operator         category\n",
      "is_client              category\n",
      "bad_client_target      category\n",
      "dtype: object\n"
     ]
    }
   ],
   "source": [
    "# lets find the data types of each column\n",
    "# Get the data types of all columns\n",
    "d_types = df_cleaned.dtypes\n",
    "# print(d_types)\n",
    "df_cleaned[[\"sex\",\"education\",\"product_type\",\"having_children_flg\",\"region\",\"month\",\"family_status\",\"phone_operator\",\"is_client\",\"bad_client_target\"]] = df_cleaned[[\"sex\",\"education\",\"product_type\",\"having_children_flg\",\"region\",\"month\",\"family_status\",\"phone_operator\",\"is_client\",\"bad_client_target\"]].astype('category')\n",
    "d_types = df_cleaned.dtypes\n",
    "print(d_types)"
   ]
  },
  {
   "cell_type": "code",
   "execution_count": 10,
   "metadata": {},
   "outputs": [],
   "source": [
    "# df_cleaned.head()\n",
    "\n",
    "# Write DataFrame to CSV file\n",
    "df_cleaned.to_csv('..\\Data\\customer_cleaned.csv', index=False)"
   ]
  }
 ],
 "metadata": {
  "kernelspec": {
   "display_name": "base",
   "language": "python",
   "name": "python3"
  },
  "language_info": {
   "codemirror_mode": {
    "name": "ipython",
    "version": 3
   },
   "file_extension": ".py",
   "mimetype": "text/x-python",
   "name": "python",
   "nbconvert_exporter": "python",
   "pygments_lexer": "ipython3",
   "version": "3.8.8"
  }
 },
 "nbformat": 4,
 "nbformat_minor": 2
}
