{
 "cells": [
  {
   "cell_type": "code",
   "execution_count": 101,
   "metadata": {},
   "outputs": [],
   "source": [
    "#import all the required libraries\n",
    "import numpy as np\n",
    "import pandas as pd\n",
    "from sklearn.model_selection import train_test_split\n",
    "from sklearn.preprocessing import StandardScaler\n",
    "from sklearn.svm import SVC\n",
    "from sklearn.metrics import accuracy_score, classification_report\n",
    "from sklearn.preprocessing import LabelEncoder\n",
    "from imblearn.under_sampling import NearMiss\n"
   ]
  },
  {
   "cell_type": "code",
   "execution_count": 102,
   "metadata": {},
   "outputs": [
    {
     "name": "stdout",
     "output_type": "stream",
     "text": [
      "(1723, 14)\n"
     ]
    }
   ],
   "source": [
    "#load data set\n",
    "df_cust = pd.read_csv('..\\Data\\customer_cleaned.csv')\n",
    "# df_cust[\"sex\"] = df_cust[\"sex\"].replace([\"female\",\"male\"],[0,1])\n",
    "print(df_cust.shape)"
   ]
  },
  {
   "cell_type": "code",
   "execution_count": 103,
   "metadata": {},
   "outputs": [
    {
     "data": {
      "text/html": [
       "<div>\n",
       "<style scoped>\n",
       "    .dataframe tbody tr th:only-of-type {\n",
       "        vertical-align: middle;\n",
       "    }\n",
       "\n",
       "    .dataframe tbody tr th {\n",
       "        vertical-align: top;\n",
       "    }\n",
       "\n",
       "    .dataframe thead th {\n",
       "        text-align: right;\n",
       "    }\n",
       "</style>\n",
       "<table border=\"1\" class=\"dataframe\">\n",
       "  <thead>\n",
       "    <tr style=\"text-align: right;\">\n",
       "      <th></th>\n",
       "      <th>month</th>\n",
       "      <th>credit_amount</th>\n",
       "      <th>credit_term</th>\n",
       "      <th>age</th>\n",
       "      <th>sex</th>\n",
       "      <th>education</th>\n",
       "      <th>product_type</th>\n",
       "      <th>having_children_flg</th>\n",
       "      <th>region</th>\n",
       "      <th>income</th>\n",
       "      <th>family_status</th>\n",
       "      <th>phone_operator</th>\n",
       "      <th>is_client</th>\n",
       "      <th>bad_client_target</th>\n",
       "    </tr>\n",
       "  </thead>\n",
       "  <tbody>\n",
       "    <tr>\n",
       "      <th>0</th>\n",
       "      <td>1</td>\n",
       "      <td>0.006757</td>\n",
       "      <td>0.272727</td>\n",
       "      <td>0.291667</td>\n",
       "      <td>male</td>\n",
       "      <td>Secondary special education</td>\n",
       "      <td>Cell phones</td>\n",
       "      <td>0</td>\n",
       "      <td>2</td>\n",
       "      <td>0.0500</td>\n",
       "      <td>Another</td>\n",
       "      <td>0</td>\n",
       "      <td>0</td>\n",
       "      <td>0</td>\n",
       "    </tr>\n",
       "    <tr>\n",
       "      <th>1</th>\n",
       "      <td>1</td>\n",
       "      <td>0.047297</td>\n",
       "      <td>0.090909</td>\n",
       "      <td>0.027778</td>\n",
       "      <td>male</td>\n",
       "      <td>Secondary special education</td>\n",
       "      <td>Household appliances</td>\n",
       "      <td>1</td>\n",
       "      <td>2</td>\n",
       "      <td>0.0400</td>\n",
       "      <td>Another</td>\n",
       "      <td>3</td>\n",
       "      <td>1</td>\n",
       "      <td>0</td>\n",
       "    </tr>\n",
       "    <tr>\n",
       "      <th>2</th>\n",
       "      <td>1</td>\n",
       "      <td>0.081081</td>\n",
       "      <td>0.272727</td>\n",
       "      <td>0.069444</td>\n",
       "      <td>female</td>\n",
       "      <td>Secondary special education</td>\n",
       "      <td>Household appliances</td>\n",
       "      <td>0</td>\n",
       "      <td>2</td>\n",
       "      <td>0.0750</td>\n",
       "      <td>Another</td>\n",
       "      <td>2</td>\n",
       "      <td>0</td>\n",
       "      <td>0</td>\n",
       "    </tr>\n",
       "    <tr>\n",
       "      <th>3</th>\n",
       "      <td>1</td>\n",
       "      <td>0.016892</td>\n",
       "      <td>0.272727</td>\n",
       "      <td>0.166667</td>\n",
       "      <td>male</td>\n",
       "      <td>Secondary special education</td>\n",
       "      <td>Cell phones</td>\n",
       "      <td>1</td>\n",
       "      <td>2</td>\n",
       "      <td>0.0750</td>\n",
       "      <td>Unmarried</td>\n",
       "      <td>3</td>\n",
       "      <td>1</td>\n",
       "      <td>0</td>\n",
       "    </tr>\n",
       "    <tr>\n",
       "      <th>4</th>\n",
       "      <td>1</td>\n",
       "      <td>0.032095</td>\n",
       "      <td>0.272727</td>\n",
       "      <td>0.097222</td>\n",
       "      <td>female</td>\n",
       "      <td>Higher education</td>\n",
       "      <td>Cell phones</td>\n",
       "      <td>0</td>\n",
       "      <td>2</td>\n",
       "      <td>0.0625</td>\n",
       "      <td>Married</td>\n",
       "      <td>0</td>\n",
       "      <td>1</td>\n",
       "      <td>0</td>\n",
       "    </tr>\n",
       "  </tbody>\n",
       "</table>\n",
       "</div>"
      ],
      "text/plain": [
       "   month  credit_amount  credit_term       age     sex  \\\n",
       "0      1       0.006757     0.272727  0.291667    male   \n",
       "1      1       0.047297     0.090909  0.027778    male   \n",
       "2      1       0.081081     0.272727  0.069444  female   \n",
       "3      1       0.016892     0.272727  0.166667    male   \n",
       "4      1       0.032095     0.272727  0.097222  female   \n",
       "\n",
       "                     education          product_type  having_children_flg  \\\n",
       "0  Secondary special education           Cell phones                    0   \n",
       "1  Secondary special education  Household appliances                    1   \n",
       "2  Secondary special education  Household appliances                    0   \n",
       "3  Secondary special education           Cell phones                    1   \n",
       "4             Higher education           Cell phones                    0   \n",
       "\n",
       "   region  income family_status  phone_operator  is_client  bad_client_target  \n",
       "0       2  0.0500       Another               0          0                  0  \n",
       "1       2  0.0400       Another               3          1                  0  \n",
       "2       2  0.0750       Another               2          0                  0  \n",
       "3       2  0.0750     Unmarried               3          1                  0  \n",
       "4       2  0.0625       Married               0          1                  0  "
      ]
     },
     "execution_count": 103,
     "metadata": {},
     "output_type": "execute_result"
    }
   ],
   "source": [
    "df_cust.head()"
   ]
  },
  {
   "cell_type": "markdown",
   "metadata": {},
   "source": [
    "#### lets get the categorical variables ready for training"
   ]
  },
  {
   "cell_type": "code",
   "execution_count": 104,
   "metadata": {},
   "outputs": [],
   "source": [
    "#use label encoder to transform product category column\n",
    "label_encoder = LabelEncoder()\n",
    "df_cust[\"sex\"] = label_encoder.fit_transform(df_cust[\"sex\"])\n",
    "df_cust[\"product_type\"] = label_encoder.fit_transform(df_cust[\"product_type\"])\n",
    "df_cust[\"education\"] = label_encoder.fit_transform(df_cust[\"education\"])\n",
    "df_cust[\"region\"] = label_encoder.fit_transform(df_cust[\"region\"])\n",
    "df_cust[\"month\"] = label_encoder.fit_transform(df_cust[\"month\"])\n",
    "df_cust[\"family_status\"] = label_encoder.fit_transform(df_cust[\"family_status\"])\n",
    "df_cust[\"phone_operator\"] = label_encoder.fit_transform(df_cust[\"phone_operator\"])\n",
    "\n",
    "\n",
    "\n",
    "# Create a StandardScaler instance\n",
    "scaler = StandardScaler()\n",
    "\n",
    "# Fit the scaler to the data and transform it\n",
    "# df_standardized = scaler.fit_transform(df_cust[['credit_amount', 'credit_term', 'age', 'income']])\n",
    "\n",
    "# df_cust[['credit_amount', 'credit_term', 'age', 'income']] = df_standardized\n",
    "\n",
    "\n",
    "\n",
    "\n",
    "# Assuming 'data' is your DataFrame and 'categorical_column' is the column containing categorical values\n",
    "\n",
    "# data_encoded = pd.get_dummies(df_cust, columns=[\"education\",\"region\",\"month\",\"family_status\",\"phone_operator\"])\n",
    "\n",
    "#copy to new dataframe\n",
    "data_encoded = df_cust.copy()\n"
   ]
  },
  {
   "cell_type": "code",
   "execution_count": 105,
   "metadata": {},
   "outputs": [
    {
     "data": {
      "text/html": [
       "<div>\n",
       "<style scoped>\n",
       "    .dataframe tbody tr th:only-of-type {\n",
       "        vertical-align: middle;\n",
       "    }\n",
       "\n",
       "    .dataframe tbody tr th {\n",
       "        vertical-align: top;\n",
       "    }\n",
       "\n",
       "    .dataframe thead th {\n",
       "        text-align: right;\n",
       "    }\n",
       "</style>\n",
       "<table border=\"1\" class=\"dataframe\">\n",
       "  <thead>\n",
       "    <tr style=\"text-align: right;\">\n",
       "      <th></th>\n",
       "      <th>month</th>\n",
       "      <th>credit_amount</th>\n",
       "      <th>credit_term</th>\n",
       "      <th>age</th>\n",
       "      <th>sex</th>\n",
       "      <th>education</th>\n",
       "      <th>product_type</th>\n",
       "      <th>having_children_flg</th>\n",
       "      <th>region</th>\n",
       "      <th>income</th>\n",
       "      <th>family_status</th>\n",
       "      <th>phone_operator</th>\n",
       "      <th>is_client</th>\n",
       "      <th>bad_client_target</th>\n",
       "    </tr>\n",
       "  </thead>\n",
       "  <tbody>\n",
       "    <tr>\n",
       "      <th>0</th>\n",
       "      <td>0</td>\n",
       "      <td>0.006757</td>\n",
       "      <td>0.272727</td>\n",
       "      <td>0.291667</td>\n",
       "      <td>1</td>\n",
       "      <td>5</td>\n",
       "      <td>3</td>\n",
       "      <td>0</td>\n",
       "      <td>2</td>\n",
       "      <td>0.0500</td>\n",
       "      <td>0</td>\n",
       "      <td>0</td>\n",
       "      <td>0</td>\n",
       "      <td>0</td>\n",
       "    </tr>\n",
       "    <tr>\n",
       "      <th>1</th>\n",
       "      <td>0</td>\n",
       "      <td>0.047297</td>\n",
       "      <td>0.090909</td>\n",
       "      <td>0.027778</td>\n",
       "      <td>1</td>\n",
       "      <td>5</td>\n",
       "      <td>13</td>\n",
       "      <td>1</td>\n",
       "      <td>2</td>\n",
       "      <td>0.0400</td>\n",
       "      <td>0</td>\n",
       "      <td>3</td>\n",
       "      <td>1</td>\n",
       "      <td>0</td>\n",
       "    </tr>\n",
       "    <tr>\n",
       "      <th>2</th>\n",
       "      <td>0</td>\n",
       "      <td>0.081081</td>\n",
       "      <td>0.272727</td>\n",
       "      <td>0.069444</td>\n",
       "      <td>0</td>\n",
       "      <td>5</td>\n",
       "      <td>13</td>\n",
       "      <td>0</td>\n",
       "      <td>2</td>\n",
       "      <td>0.0750</td>\n",
       "      <td>0</td>\n",
       "      <td>2</td>\n",
       "      <td>0</td>\n",
       "      <td>0</td>\n",
       "    </tr>\n",
       "    <tr>\n",
       "      <th>3</th>\n",
       "      <td>0</td>\n",
       "      <td>0.016892</td>\n",
       "      <td>0.272727</td>\n",
       "      <td>0.166667</td>\n",
       "      <td>1</td>\n",
       "      <td>5</td>\n",
       "      <td>3</td>\n",
       "      <td>1</td>\n",
       "      <td>2</td>\n",
       "      <td>0.0750</td>\n",
       "      <td>2</td>\n",
       "      <td>3</td>\n",
       "      <td>1</td>\n",
       "      <td>0</td>\n",
       "    </tr>\n",
       "    <tr>\n",
       "      <th>4</th>\n",
       "      <td>0</td>\n",
       "      <td>0.032095</td>\n",
       "      <td>0.272727</td>\n",
       "      <td>0.097222</td>\n",
       "      <td>0</td>\n",
       "      <td>0</td>\n",
       "      <td>3</td>\n",
       "      <td>0</td>\n",
       "      <td>2</td>\n",
       "      <td>0.0625</td>\n",
       "      <td>1</td>\n",
       "      <td>0</td>\n",
       "      <td>1</td>\n",
       "      <td>0</td>\n",
       "    </tr>\n",
       "  </tbody>\n",
       "</table>\n",
       "</div>"
      ],
      "text/plain": [
       "   month  credit_amount  credit_term       age  sex  education  product_type  \\\n",
       "0      0       0.006757     0.272727  0.291667    1          5             3   \n",
       "1      0       0.047297     0.090909  0.027778    1          5            13   \n",
       "2      0       0.081081     0.272727  0.069444    0          5            13   \n",
       "3      0       0.016892     0.272727  0.166667    1          5             3   \n",
       "4      0       0.032095     0.272727  0.097222    0          0             3   \n",
       "\n",
       "   having_children_flg  region  income  family_status  phone_operator  \\\n",
       "0                    0       2  0.0500              0               0   \n",
       "1                    1       2  0.0400              0               3   \n",
       "2                    0       2  0.0750              0               2   \n",
       "3                    1       2  0.0750              2               3   \n",
       "4                    0       2  0.0625              1               0   \n",
       "\n",
       "   is_client  bad_client_target  \n",
       "0          0                  0  \n",
       "1          1                  0  \n",
       "2          0                  0  \n",
       "3          1                  0  \n",
       "4          1                  0  "
      ]
     },
     "execution_count": 105,
     "metadata": {},
     "output_type": "execute_result"
    }
   ],
   "source": [
    "data_encoded.head()"
   ]
  },
  {
   "cell_type": "code",
   "execution_count": 106,
   "metadata": {},
   "outputs": [
    {
     "name": "stdout",
     "output_type": "stream",
     "text": [
      "<class 'pandas.core.frame.DataFrame'>\n",
      "RangeIndex: 1723 entries, 0 to 1722\n",
      "Data columns (total 14 columns):\n",
      " #   Column               Non-Null Count  Dtype  \n",
      "---  ------               --------------  -----  \n",
      " 0   month                1723 non-null   int64  \n",
      " 1   credit_amount        1723 non-null   float64\n",
      " 2   credit_term          1723 non-null   float64\n",
      " 3   age                  1723 non-null   float64\n",
      " 4   sex                  1723 non-null   int32  \n",
      " 5   education            1723 non-null   int32  \n",
      " 6   product_type         1723 non-null   int32  \n",
      " 7   having_children_flg  1723 non-null   int64  \n",
      " 8   region               1723 non-null   int64  \n",
      " 9   income               1723 non-null   float64\n",
      " 10  family_status        1723 non-null   int32  \n",
      " 11  phone_operator       1723 non-null   int64  \n",
      " 12  is_client            1723 non-null   int64  \n",
      " 13  bad_client_target    1723 non-null   int64  \n",
      "dtypes: float64(4), int32(4), int64(6)\n",
      "memory usage: 161.7 KB\n"
     ]
    }
   ],
   "source": [
    "data_encoded.info()"
   ]
  },
  {
   "cell_type": "code",
   "execution_count": 107,
   "metadata": {},
   "outputs": [],
   "source": [
    "# Assuming 'X' contains your features and 'y' contains your labels\n",
    "X = data_encoded.drop('bad_client_target', axis=1)\n",
    "y = data_encoded['bad_client_target']\n",
    "#standard scaling\n",
    "X = scaler.fit_transform(X)"
   ]
  },
  {
   "cell_type": "code",
   "execution_count": 108,
   "metadata": {},
   "outputs": [],
   "source": [
    "#split the dataset into train and test\n",
    "X_train, X_test, y_train, y_test = train_test_split(X, y, test_size=0.2, random_state=42,stratify=y)\n"
   ]
  },
  {
   "cell_type": "markdown",
   "metadata": {},
   "source": [
    "#### Train and test the SVM model"
   ]
  },
  {
   "cell_type": "code",
   "execution_count": 109,
   "metadata": {},
   "outputs": [
    {
     "name": "stdout",
     "output_type": "stream",
     "text": [
      "Accuracy: 0.89\n",
      "Classification Report:\n",
      "              precision    recall  f1-score   support\n",
      "\n",
      "           0       0.89      1.00      0.94       306\n",
      "           1       0.00      0.00      0.00        39\n",
      "\n",
      "    accuracy                           0.89       345\n",
      "   macro avg       0.44      0.50      0.47       345\n",
      "weighted avg       0.79      0.89      0.83       345\n",
      "\n"
     ]
    },
    {
     "name": "stderr",
     "output_type": "stream",
     "text": [
      "c:\\Users\\abhij\\anaconda3\\lib\\site-packages\\sklearn\\metrics\\_classification.py:1471: UndefinedMetricWarning: Precision and F-score are ill-defined and being set to 0.0 in labels with no predicted samples. Use `zero_division` parameter to control this behavior.\n",
      "  _warn_prf(average, modifier, msg_start, len(result))\n",
      "c:\\Users\\abhij\\anaconda3\\lib\\site-packages\\sklearn\\metrics\\_classification.py:1471: UndefinedMetricWarning: Precision and F-score are ill-defined and being set to 0.0 in labels with no predicted samples. Use `zero_division` parameter to control this behavior.\n",
      "  _warn_prf(average, modifier, msg_start, len(result))\n",
      "c:\\Users\\abhij\\anaconda3\\lib\\site-packages\\sklearn\\metrics\\_classification.py:1471: UndefinedMetricWarning: Precision and F-score are ill-defined and being set to 0.0 in labels with no predicted samples. Use `zero_division` parameter to control this behavior.\n",
      "  _warn_prf(average, modifier, msg_start, len(result))\n"
     ]
    }
   ],
   "source": [
    "# svm_model = SVC(kernel='poly')  # You can choose different kernels like 'rbf', 'poly', etc.\n",
    "# svm_model.fit(X_train, y_train.ravel())\n",
    "\n",
    "def traintest_svm(X,y):\n",
    "    \n",
    "    X_train, X_test, y_train, y_test = train_test_split(X, y, test_size=0.2, random_state=42,stratify=y)\n",
    "    svm_model = SVC(kernel='rbf')  # You can choose different kernels like 'rbf', 'poly', etc.\n",
    "    svm_model.fit(X_train, y_train.ravel())\n",
    "\n",
    "    y_pred = svm_model.predict(X_test)\n",
    "\n",
    "    accuracy = accuracy_score(y_test, y_pred)\n",
    "    print(f'Accuracy: {accuracy:.2f}')\n",
    "    print('Classification Report:')\n",
    "    print(classification_report(y_test, y_pred))\n",
    "\n",
    "traintest_svm(X,y)\n",
    "\n",
    "# def traintest_svm(X_train,y_train,X_test,y_test):\n",
    "    \n",
    "    \n",
    "#     svm_model = SVC(kernel='rbf')  # You can choose different kernels like 'rbf', 'poly', etc.\n",
    "#     svm_model.fit(X_train, y_train.ravel())\n",
    "\n",
    "#     y_pred = svm_model.predict(X_test)\n",
    "\n",
    "#     accuracy = accuracy_score(y_test, y_pred)\n",
    "#     print(f'Accuracy: {accuracy:.2f}')\n",
    "#     print('Classification Report:')\n",
    "#     print(classification_report(y_test, y_pred))\n",
    "\n"
   ]
  },
  {
   "cell_type": "markdown",
   "metadata": {},
   "source": [
    "#### Oversampling with SMOTE"
   ]
  },
  {
   "cell_type": "code",
   "execution_count": 110,
   "metadata": {},
   "outputs": [],
   "source": [
    "# !pip install imblearn\n",
    "# !pip install --upgrade imbalanced-learn\n",
    "# !pip install --upgrade scikit-learn\n",
    "from imblearn.over_sampling import SMOTE\n",
    "from sklearn.datasets import make_classification"
   ]
  },
  {
   "cell_type": "code",
   "execution_count": 111,
   "metadata": {},
   "outputs": [
    {
     "data": {
      "text/plain": [
       "(3054, 13)"
      ]
     },
     "execution_count": 111,
     "metadata": {},
     "output_type": "execute_result"
    }
   ],
   "source": [
    "\n",
    "# Apply SMOTE\n",
    "# X_train, X_test, y_train, y_test = train_test_split(X, y, test_size=0.3, random_state=0)\n",
    "\n",
    "smote = SMOTE( random_state= 2)\n",
    "X_resampled, y_resampled = smote.fit_resample(X, y.ravel())\n",
    "\n",
    "X_resampled.shape"
   ]
  },
  {
   "cell_type": "code",
   "execution_count": 112,
   "metadata": {},
   "outputs": [
    {
     "name": "stdout",
     "output_type": "stream",
     "text": [
      "Accuracy: 0.86\n",
      "Classification Report:\n",
      "              precision    recall  f1-score   support\n",
      "\n",
      "           0       0.94      0.77      0.84       306\n",
      "           1       0.80      0.95      0.87       305\n",
      "\n",
      "    accuracy                           0.86       611\n",
      "   macro avg       0.87      0.86      0.86       611\n",
      "weighted avg       0.87      0.86      0.86       611\n",
      "\n"
     ]
    }
   ],
   "source": [
    "# lets test the performance of resampled cases\n",
    "#Now you can observe that the Preision, f1 and recall of target 1 is improved\n",
    "traintest_svm(X_resampled,y_resampled)"
   ]
  },
  {
   "cell_type": "markdown",
   "metadata": {},
   "source": [
    "#### Near miss undersampling algorithm"
   ]
  },
  {
   "cell_type": "code",
   "execution_count": 113,
   "metadata": {},
   "outputs": [
    {
     "name": "stdout",
     "output_type": "stream",
     "text": [
      "Before Undersampling, counts of label '1': 157\n",
      "Before Undersampling, counts of label '0': 1221 \n",
      "\n",
      "After Undersampling NM, counts of label '1': 196\n",
      "After Undersampling  NM, counts of label '0': 196\n"
     ]
    }
   ],
   "source": [
    "print(\"Before Undersampling, counts of label '1': {}\".format(sum(y_train == 1))) \n",
    "print(\"Before Undersampling, counts of label '0': {} \\n\".format(sum(y_train == 0))) \n",
    "\n",
    "# Apply NearMiss\n",
    "nearmiss = NearMiss()\n",
    "X_NM_resampled, y_nm_resampled = nearmiss.fit_resample(X, y.ravel())\n",
    "X_NM_resampled.shape\n",
    "\n",
    "\n",
    "print(\"After Undersampling NM, counts of label '1': {}\".format(sum(y_nm_resampled == 1))) \n",
    "print(\"After Undersampling  NM, counts of label '0': {}\".format(sum(y_nm_resampled == 0)))"
   ]
  },
  {
   "cell_type": "code",
   "execution_count": 114,
   "metadata": {},
   "outputs": [
    {
     "name": "stdout",
     "output_type": "stream",
     "text": [
      "Accuracy: 0.76\n",
      "Classification Report:\n",
      "              precision    recall  f1-score   support\n",
      "\n",
      "           0       0.73      0.82      0.78        40\n",
      "           1       0.79      0.69      0.74        39\n",
      "\n",
      "    accuracy                           0.76        79\n",
      "   macro avg       0.76      0.76      0.76        79\n",
      "weighted avg       0.76      0.76      0.76        79\n",
      "\n"
     ]
    }
   ],
   "source": [
    "traintest_svm(X_NM_resampled, y_nm_resampled)"
   ]
  },
  {
   "cell_type": "code",
   "execution_count": null,
   "metadata": {},
   "outputs": [],
   "source": []
  }
 ],
 "metadata": {
  "kernelspec": {
   "display_name": "base",
   "language": "python",
   "name": "python3"
  },
  "language_info": {
   "codemirror_mode": {
    "name": "ipython",
    "version": 3
   },
   "file_extension": ".py",
   "mimetype": "text/x-python",
   "name": "python",
   "nbconvert_exporter": "python",
   "pygments_lexer": "ipython3",
   "version": "3.8.8"
  }
 },
 "nbformat": 4,
 "nbformat_minor": 2
}
