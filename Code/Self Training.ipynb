{
 "cells": [
  {
   "cell_type": "markdown",
   "id": "4e21d01c",
   "metadata": {},
   "source": [
    "### Cleaned Data Import"
   ]
  },
  {
   "cell_type": "code",
   "execution_count": 275,
   "id": "92bb3cb1",
   "metadata": {},
   "outputs": [
    {
     "name": "stderr",
     "output_type": "stream",
     "text": [
      "ERROR: Invalid requirement: '–upgrade'\n",
      "WARNING: There was an error checking the latest version of pip.\n"
     ]
    },
    {
     "name": "stdout",
     "output_type": "stream",
     "text": [
      "Requirement already satisfied: tensorflow in c:\\users\\abhij\\anaconda3\\lib\\site-packages (2.11.0)\n",
      "Requirement already satisfied: tensorflow-intel==2.11.0 in c:\\users\\abhij\\anaconda3\\lib\\site-packages (from tensorflow) (2.11.0)\n",
      "Requirement already satisfied: numpy>=1.20 in c:\\users\\abhij\\anaconda3\\lib\\site-packages (from tensorflow-intel==2.11.0->tensorflow) (1.20.1)\n",
      "Requirement already satisfied: six>=1.12.0 in c:\\users\\abhij\\anaconda3\\lib\\site-packages (from tensorflow-intel==2.11.0->tensorflow) (1.15.0)\n",
      "Requirement already satisfied: google-pasta>=0.1.1 in c:\\users\\abhij\\anaconda3\\lib\\site-packages (from tensorflow-intel==2.11.0->tensorflow) (0.2.0)\n",
      "Requirement already satisfied: tensorflow-estimator<2.12,>=2.11.0 in c:\\users\\abhij\\anaconda3\\lib\\site-packages (from tensorflow-intel==2.11.0->tensorflow) (2.11.0)\n",
      "Requirement already satisfied: tensorboard<2.12,>=2.11 in c:\\users\\abhij\\anaconda3\\lib\\site-packages (from tensorflow-intel==2.11.0->tensorflow) (2.11.2)\n",
      "Requirement already satisfied: grpcio<2.0,>=1.24.3 in c:\\users\\abhij\\anaconda3\\lib\\site-packages (from tensorflow-intel==2.11.0->tensorflow) (1.51.1)\n",
      "Requirement already satisfied: typing-extensions>=3.6.6 in c:\\users\\abhij\\anaconda3\\lib\\site-packages (from tensorflow-intel==2.11.0->tensorflow) (3.7.4.3)\n",
      "Requirement already satisfied: opt-einsum>=2.3.2 in c:\\users\\abhij\\anaconda3\\lib\\site-packages (from tensorflow-intel==2.11.0->tensorflow) (3.3.0)\n",
      "Requirement already satisfied: gast<=0.4.0,>=0.2.1 in c:\\users\\abhij\\anaconda3\\lib\\site-packages (from tensorflow-intel==2.11.0->tensorflow) (0.4.0)\n",
      "Requirement already satisfied: packaging in c:\\users\\abhij\\anaconda3\\lib\\site-packages (from tensorflow-intel==2.11.0->tensorflow) (20.9)\n",
      "Requirement already satisfied: astunparse>=1.6.0 in c:\\users\\abhij\\anaconda3\\lib\\site-packages (from tensorflow-intel==2.11.0->tensorflow) (1.6.3)\n",
      "Requirement already satisfied: protobuf<3.20,>=3.9.2 in c:\\users\\abhij\\anaconda3\\lib\\site-packages (from tensorflow-intel==2.11.0->tensorflow) (3.19.6)\n",
      "Requirement already satisfied: flatbuffers>=2.0 in c:\\users\\abhij\\anaconda3\\lib\\site-packages (from tensorflow-intel==2.11.0->tensorflow) (23.1.21)\n",
      "Requirement already satisfied: keras<2.12,>=2.11.0 in c:\\users\\abhij\\anaconda3\\lib\\site-packages (from tensorflow-intel==2.11.0->tensorflow) (2.11.0)\n",
      "Requirement already satisfied: wrapt>=1.11.0 in c:\\users\\abhij\\anaconda3\\lib\\site-packages (from tensorflow-intel==2.11.0->tensorflow) (1.12.1)\n",
      "Requirement already satisfied: absl-py>=1.0.0 in c:\\users\\abhij\\anaconda3\\lib\\site-packages (from tensorflow-intel==2.11.0->tensorflow) (1.4.0)\n",
      "Requirement already satisfied: setuptools in c:\\users\\abhij\\anaconda3\\lib\\site-packages (from tensorflow-intel==2.11.0->tensorflow) (62.2.0)\n",
      "Requirement already satisfied: termcolor>=1.1.0 in c:\\users\\abhij\\anaconda3\\lib\\site-packages (from tensorflow-intel==2.11.0->tensorflow) (2.2.0)\n",
      "Requirement already satisfied: h5py>=2.9.0 in c:\\users\\abhij\\anaconda3\\lib\\site-packages (from tensorflow-intel==2.11.0->tensorflow) (2.10.0)\n",
      "Requirement already satisfied: libclang>=13.0.0 in c:\\users\\abhij\\anaconda3\\lib\\site-packages (from tensorflow-intel==2.11.0->tensorflow) (15.0.6.1)\n",
      "Requirement already satisfied: tensorflow-io-gcs-filesystem>=0.23.1 in c:\\users\\abhij\\anaconda3\\lib\\site-packages (from tensorflow-intel==2.11.0->tensorflow) (0.30.0)\n",
      "Requirement already satisfied: wheel<1.0,>=0.23.0 in c:\\users\\abhij\\anaconda3\\lib\\site-packages (from astunparse>=1.6.0->tensorflow-intel==2.11.0->tensorflow) (0.37.1)\n",
      "Requirement already satisfied: google-auth<3,>=1.6.3 in c:\\users\\abhij\\anaconda3\\lib\\site-packages (from tensorboard<2.12,>=2.11->tensorflow-intel==2.11.0->tensorflow) (2.16.0)\n",
      "Requirement already satisfied: requests<3,>=2.21.0 in c:\\users\\abhij\\anaconda3\\lib\\site-packages (from tensorboard<2.12,>=2.11->tensorflow-intel==2.11.0->tensorflow) (2.25.1)\n",
      "Requirement already satisfied: tensorboard-data-server<0.7.0,>=0.6.0 in c:\\users\\abhij\\anaconda3\\lib\\site-packages (from tensorboard<2.12,>=2.11->tensorflow-intel==2.11.0->tensorflow) (0.6.1)\n",
      "Requirement already satisfied: markdown>=2.6.8 in c:\\users\\abhij\\anaconda3\\lib\\site-packages (from tensorboard<2.12,>=2.11->tensorflow-intel==2.11.0->tensorflow) (3.4.1)\n",
      "Requirement already satisfied: tensorboard-plugin-wit>=1.6.0 in c:\\users\\abhij\\anaconda3\\lib\\site-packages (from tensorboard<2.12,>=2.11->tensorflow-intel==2.11.0->tensorflow) (1.8.1)\n",
      "Requirement already satisfied: google-auth-oauthlib<0.5,>=0.4.1 in c:\\users\\abhij\\anaconda3\\lib\\site-packages (from tensorboard<2.12,>=2.11->tensorflow-intel==2.11.0->tensorflow) (0.4.6)\n",
      "Requirement already satisfied: werkzeug>=1.0.1 in c:\\users\\abhij\\anaconda3\\lib\\site-packages (from tensorboard<2.12,>=2.11->tensorflow-intel==2.11.0->tensorflow) (1.0.1)\n",
      "Requirement already satisfied: pyparsing>=2.0.2 in c:\\users\\abhij\\anaconda3\\lib\\site-packages (from packaging->tensorflow-intel==2.11.0->tensorflow) (2.4.7)\n",
      "Requirement already satisfied: rsa<5,>=3.1.4 in c:\\users\\abhij\\anaconda3\\lib\\site-packages (from google-auth<3,>=1.6.3->tensorboard<2.12,>=2.11->tensorflow-intel==2.11.0->tensorflow) (4.9)\n",
      "Requirement already satisfied: pyasn1-modules>=0.2.1 in c:\\users\\abhij\\anaconda3\\lib\\site-packages (from google-auth<3,>=1.6.3->tensorboard<2.12,>=2.11->tensorflow-intel==2.11.0->tensorflow) (0.2.8)\n",
      "Requirement already satisfied: cachetools<6.0,>=2.0.0 in c:\\users\\abhij\\anaconda3\\lib\\site-packages (from google-auth<3,>=1.6.3->tensorboard<2.12,>=2.11->tensorflow-intel==2.11.0->tensorflow) (5.3.0)\n",
      "Requirement already satisfied: requests-oauthlib>=0.7.0 in c:\\users\\abhij\\anaconda3\\lib\\site-packages (from google-auth-oauthlib<0.5,>=0.4.1->tensorboard<2.12,>=2.11->tensorflow-intel==2.11.0->tensorflow) (1.3.1)\n",
      "Requirement already satisfied: importlib-metadata>=4.4 in c:\\users\\abhij\\anaconda3\\lib\\site-packages (from markdown>=2.6.8->tensorboard<2.12,>=2.11->tensorflow-intel==2.11.0->tensorflow) (6.0.0)\n",
      "Requirement already satisfied: chardet<5,>=3.0.2 in c:\\users\\abhij\\anaconda3\\lib\\site-packages (from requests<3,>=2.21.0->tensorboard<2.12,>=2.11->tensorflow-intel==2.11.0->tensorflow) (4.0.0)\n",
      "Requirement already satisfied: idna<3,>=2.5 in c:\\users\\abhij\\anaconda3\\lib\\site-packages (from requests<3,>=2.21.0->tensorboard<2.12,>=2.11->tensorflow-intel==2.11.0->tensorflow) (2.10)\n",
      "Requirement already satisfied: urllib3<1.27,>=1.21.1 in c:\\users\\abhij\\anaconda3\\lib\\site-packages (from requests<3,>=2.21.0->tensorboard<2.12,>=2.11->tensorflow-intel==2.11.0->tensorflow) (1.26.4)\n",
      "Requirement already satisfied: certifi>=2017.4.17 in c:\\users\\abhij\\anaconda3\\lib\\site-packages (from requests<3,>=2.21.0->tensorboard<2.12,>=2.11->tensorflow-intel==2.11.0->tensorflow) (2020.12.5)\n",
      "Requirement already satisfied: zipp>=0.5 in c:\\users\\abhij\\anaconda3\\lib\\site-packages (from importlib-metadata>=4.4->markdown>=2.6.8->tensorboard<2.12,>=2.11->tensorflow-intel==2.11.0->tensorflow) (3.4.1)\n",
      "Requirement already satisfied: pyasn1<0.5.0,>=0.4.6 in c:\\users\\abhij\\anaconda3\\lib\\site-packages (from pyasn1-modules>=0.2.1->google-auth<3,>=1.6.3->tensorboard<2.12,>=2.11->tensorflow-intel==2.11.0->tensorflow) (0.4.8)\n",
      "Requirement already satisfied: oauthlib>=3.0.0 in c:\\users\\abhij\\anaconda3\\lib\\site-packages (from requests-oauthlib>=0.7.0->google-auth-oauthlib<0.5,>=0.4.1->tensorboard<2.12,>=2.11->tensorflow-intel==2.11.0->tensorflow) (3.2.2)\n"
     ]
    },
    {
     "name": "stderr",
     "output_type": "stream",
     "text": [
      "WARNING: There was an error checking the latest version of pip.\n"
     ]
    }
   ],
   "source": [
    "!pip install –upgrade pip\n",
    "!pip install tensorflow"
   ]
  },
  {
   "cell_type": "code",
   "execution_count": 278,
   "id": "c7adcec3",
   "metadata": {},
   "outputs": [],
   "source": [
    "import pandas as pd\n",
    "import matplotlib.pyplot as plt\n",
    "import numpy as np\n",
    "import seaborn as sb\n",
    "from sklearn.linear_model import LogisticRegression\n",
    "from sklearn.feature_extraction.text import CountVectorizer\n",
    "from sklearn.model_selection import train_test_split\n",
    "from sklearn.metrics import classification_report, confusion_matrix\n",
    "from tensorflow.keras.preprocessing.sequence import pad_sequences"
   ]
  },
  {
   "cell_type": "code",
   "execution_count": 254,
   "id": "ad8dde8c",
   "metadata": {},
   "outputs": [],
   "source": [
    "cleaned_df = pd.read_csv('../Data/cleaned_tweets.csv')"
   ]
  },
  {
   "cell_type": "code",
   "execution_count": 255,
   "id": "cb1694e1",
   "metadata": {},
   "outputs": [
    {
     "data": {
      "text/plain": [
       "Index(['Unnamed: 0', 'id', 'entity', 'sentiment', 'tweet'], dtype='object')"
      ]
     },
     "execution_count": 255,
     "metadata": {},
     "output_type": "execute_result"
    }
   ],
   "source": [
    "cleaned_df.columns"
   ]
  },
  {
   "cell_type": "code",
   "execution_count": 256,
   "id": "17371aa6",
   "metadata": {},
   "outputs": [],
   "source": [
    "cleaned_df.drop('Unnamed: 0', inplace=True, axis=1)"
   ]
  },
  {
   "cell_type": "code",
   "execution_count": 257,
   "id": "58deac30",
   "metadata": {},
   "outputs": [
    {
     "data": {
      "text/html": [
       "<div>\n",
       "<style scoped>\n",
       "    .dataframe tbody tr th:only-of-type {\n",
       "        vertical-align: middle;\n",
       "    }\n",
       "\n",
       "    .dataframe tbody tr th {\n",
       "        vertical-align: top;\n",
       "    }\n",
       "\n",
       "    .dataframe thead th {\n",
       "        text-align: right;\n",
       "    }\n",
       "</style>\n",
       "<table border=\"1\" class=\"dataframe\">\n",
       "  <thead>\n",
       "    <tr style=\"text-align: right;\">\n",
       "      <th></th>\n",
       "      <th>id</th>\n",
       "      <th>entity</th>\n",
       "      <th>sentiment</th>\n",
       "      <th>tweet</th>\n",
       "    </tr>\n",
       "  </thead>\n",
       "  <tbody>\n",
       "    <tr>\n",
       "      <th>0</th>\n",
       "      <td>2401</td>\n",
       "      <td>Borderlands</td>\n",
       "      <td>Positive</td>\n",
       "      <td>['im', 'get', 'borderland', 'murder']</td>\n",
       "    </tr>\n",
       "    <tr>\n",
       "      <th>1</th>\n",
       "      <td>2401</td>\n",
       "      <td>Borderlands</td>\n",
       "      <td>Positive</td>\n",
       "      <td>['come', 'border', 'kill']</td>\n",
       "    </tr>\n",
       "    <tr>\n",
       "      <th>2</th>\n",
       "      <td>2401</td>\n",
       "      <td>Borderlands</td>\n",
       "      <td>Positive</td>\n",
       "      <td>['im', 'get', 'borderland', 'kill']</td>\n",
       "    </tr>\n",
       "    <tr>\n",
       "      <th>3</th>\n",
       "      <td>2401</td>\n",
       "      <td>Borderlands</td>\n",
       "      <td>Positive</td>\n",
       "      <td>['im', 'come', 'borderland', 'murder']</td>\n",
       "    </tr>\n",
       "    <tr>\n",
       "      <th>4</th>\n",
       "      <td>2401</td>\n",
       "      <td>Borderlands</td>\n",
       "      <td>Positive</td>\n",
       "      <td>['im', 'get', 'borderland', '2', 'murder']</td>\n",
       "    </tr>\n",
       "  </tbody>\n",
       "</table>\n",
       "</div>"
      ],
      "text/plain": [
       "     id       entity sentiment                                       tweet\n",
       "0  2401  Borderlands  Positive       ['im', 'get', 'borderland', 'murder']\n",
       "1  2401  Borderlands  Positive                  ['come', 'border', 'kill']\n",
       "2  2401  Borderlands  Positive         ['im', 'get', 'borderland', 'kill']\n",
       "3  2401  Borderlands  Positive      ['im', 'come', 'borderland', 'murder']\n",
       "4  2401  Borderlands  Positive  ['im', 'get', 'borderland', '2', 'murder']"
      ]
     },
     "execution_count": 257,
     "metadata": {},
     "output_type": "execute_result"
    }
   ],
   "source": [
    "cleaned_df.head(5)"
   ]
  },
  {
   "cell_type": "markdown",
   "id": "5d5d88cc",
   "metadata": {},
   "source": [
    "### Baseline model for self-training"
   ]
  },
  {
   "cell_type": "code",
   "execution_count": 258,
   "id": "e56cd1a0",
   "metadata": {},
   "outputs": [],
   "source": [
    "from BaselineModel import BaselineModel"
   ]
  },
  {
   "cell_type": "markdown",
   "id": "07da3c7b",
   "metadata": {},
   "source": [
    "### 1. Logistic Regression"
   ]
  },
  {
   "cell_type": "code",
   "execution_count": 259,
   "id": "f0fe396e",
   "metadata": {},
   "outputs": [],
   "source": [
    "from sklearn.feature_extraction.text import CountVectorizer, TfidfVectorizer\n",
    "from sklearn.linear_model import LogisticRegression"
   ]
  },
  {
   "cell_type": "code",
   "execution_count": 260,
   "id": "06ce7176",
   "metadata": {},
   "outputs": [],
   "source": [
    "count_vectorizer = CountVectorizer()"
   ]
  },
  {
   "cell_type": "code",
   "execution_count": 261,
   "id": "3a36749c",
   "metadata": {},
   "outputs": [],
   "source": [
    "logistic_regression = LogisticRegression()"
   ]
  },
  {
   "cell_type": "code",
   "execution_count": 262,
   "id": "cbddf710",
   "metadata": {},
   "outputs": [],
   "source": [
    "lr_baseline_model = BaselineModel(classifier=logistic_regression, vectorizer=count_vectorizer)"
   ]
  },
  {
   "cell_type": "code",
   "execution_count": 263,
   "id": "45681cd1",
   "metadata": {},
   "outputs": [
    {
     "data": {
      "text/plain": [
       "<4x4 sparse matrix of type '<class 'numpy.int64'>'\n",
       "\twith 4 stored elements in Compressed Sparse Row format>"
      ]
     },
     "execution_count": 263,
     "metadata": {},
     "output_type": "execute_result"
    }
   ],
   "source": [
    "lr_baseline_model.fit_transform(cleaned_df)"
   ]
  },
  {
   "cell_type": "code",
   "execution_count": 264,
   "id": "5090e5cf",
   "metadata": {},
   "outputs": [],
   "source": [
    "train_df, test_df = train_test_split(cleaned_df, test_size=0.1)"
   ]
  },
  {
   "cell_type": "code",
   "execution_count": 279,
   "id": "aae1211e",
   "metadata": {},
   "outputs": [
    {
     "ename": "ValueError",
     "evalue": "invalid literal for int() with base 10: '[\\'silli\\', \\'disappoint\\', \\'know\\', \\'projeckt\\', \\'red\\', \\'delay\\', \\'core\\', \\'3\\', \"it\\'ll\", \\'worth\\', \\'wait\\']'",
     "output_type": "error",
     "traceback": [
      "\u001b[1;31m---------------------------------------------------------------------------\u001b[0m",
      "\u001b[1;31mValueError\u001b[0m                                Traceback (most recent call last)",
      "\u001b[1;32md:\\Git\\RCS-Semi-Supervised-Learning\\Code\\Self Training.ipynb Cell 17\u001b[0m in \u001b[0;36m<cell line: 6>\u001b[1;34m()\u001b[0m\n\u001b[0;32m      <a href='vscode-notebook-cell:/d%3A/Git/RCS-Semi-Supervised-Learning/Code/Self%20Training.ipynb#X26sZmlsZQ%3D%3D?line=2'>3</a>\u001b[0m x_test \u001b[39m=\u001b[39m test_df\u001b[39m.\u001b[39mtweet\u001b[39m.\u001b[39mvalues\n\u001b[0;32m      <a href='vscode-notebook-cell:/d%3A/Git/RCS-Semi-Supervised-Learning/Code/Self%20Training.ipynb#X26sZmlsZQ%3D%3D?line=3'>4</a>\u001b[0m y_test \u001b[39m=\u001b[39m test_df\u001b[39m.\u001b[39msentiment\u001b[39m.\u001b[39mvalues\n\u001b[1;32m----> <a href='vscode-notebook-cell:/d%3A/Git/RCS-Semi-Supervised-Learning/Code/Self%20Training.ipynb#X26sZmlsZQ%3D%3D?line=5'>6</a>\u001b[0m x_train \u001b[39m=\u001b[39m pad_sequences(x_train, maxlen\u001b[39m=\u001b[39;49m\u001b[39m250\u001b[39;49m)\n\u001b[0;32m      <a href='vscode-notebook-cell:/d%3A/Git/RCS-Semi-Supervised-Learning/Code/Self%20Training.ipynb#X26sZmlsZQ%3D%3D?line=6'>7</a>\u001b[0m x_test \u001b[39m=\u001b[39m pad_sequences(x_test, maxlen\u001b[39m=\u001b[39m\u001b[39m250\u001b[39m)\n\u001b[0;32m     <a href='vscode-notebook-cell:/d%3A/Git/RCS-Semi-Supervised-Learning/Code/Self%20Training.ipynb#X26sZmlsZQ%3D%3D?line=9'>10</a>\u001b[0m \u001b[39mprint\u001b[39m(y_train)\n",
      "File \u001b[1;32mc:\\Users\\abhij\\anaconda3\\lib\\site-packages\\keras\\utils\\data_utils.py:1082\u001b[0m, in \u001b[0;36mpad_sequences\u001b[1;34m(sequences, maxlen, dtype, padding, truncating, value)\u001b[0m\n\u001b[0;32m   1079\u001b[0m     \u001b[39mraise\u001b[39;00m \u001b[39mValueError\u001b[39;00m(\u001b[39mf\u001b[39m\u001b[39m'\u001b[39m\u001b[39mTruncating type \u001b[39m\u001b[39m\"\u001b[39m\u001b[39m{\u001b[39;00mtruncating\u001b[39m}\u001b[39;00m\u001b[39m\"\u001b[39m\u001b[39m not understood\u001b[39m\u001b[39m'\u001b[39m)\n\u001b[0;32m   1081\u001b[0m \u001b[39m# check `trunc` has expected shape\u001b[39;00m\n\u001b[1;32m-> 1082\u001b[0m trunc \u001b[39m=\u001b[39m np\u001b[39m.\u001b[39;49masarray(trunc, dtype\u001b[39m=\u001b[39;49mdtype)\n\u001b[0;32m   1083\u001b[0m \u001b[39mif\u001b[39;00m trunc\u001b[39m.\u001b[39mshape[\u001b[39m1\u001b[39m:] \u001b[39m!=\u001b[39m sample_shape:\n\u001b[0;32m   1084\u001b[0m     \u001b[39mraise\u001b[39;00m \u001b[39mValueError\u001b[39;00m(\n\u001b[0;32m   1085\u001b[0m         \u001b[39mf\u001b[39m\u001b[39m\"\u001b[39m\u001b[39mShape of sample \u001b[39m\u001b[39m{\u001b[39;00mtrunc\u001b[39m.\u001b[39mshape[\u001b[39m1\u001b[39m:]\u001b[39m}\u001b[39;00m\u001b[39m of sequence at \u001b[39m\u001b[39m\"\u001b[39m\n\u001b[0;32m   1086\u001b[0m         \u001b[39mf\u001b[39m\u001b[39m\"\u001b[39m\u001b[39mposition \u001b[39m\u001b[39m{\u001b[39;00midx\u001b[39m}\u001b[39;00m\u001b[39m is different from expected shape \u001b[39m\u001b[39m\"\u001b[39m\n\u001b[0;32m   1087\u001b[0m         \u001b[39mf\u001b[39m\u001b[39m\"\u001b[39m\u001b[39m{\u001b[39;00msample_shape\u001b[39m}\u001b[39;00m\u001b[39m\"\u001b[39m\n\u001b[0;32m   1088\u001b[0m     )\n",
      "File \u001b[1;32mc:\\Users\\abhij\\anaconda3\\lib\\site-packages\\numpy\\core\\_asarray.py:102\u001b[0m, in \u001b[0;36masarray\u001b[1;34m(a, dtype, order, like)\u001b[0m\n\u001b[0;32m     99\u001b[0m \u001b[39mif\u001b[39;00m like \u001b[39mis\u001b[39;00m \u001b[39mnot\u001b[39;00m \u001b[39mNone\u001b[39;00m:\n\u001b[0;32m    100\u001b[0m     \u001b[39mreturn\u001b[39;00m _asarray_with_like(a, dtype\u001b[39m=\u001b[39mdtype, order\u001b[39m=\u001b[39morder, like\u001b[39m=\u001b[39mlike)\n\u001b[1;32m--> 102\u001b[0m \u001b[39mreturn\u001b[39;00m array(a, dtype, copy\u001b[39m=\u001b[39;49m\u001b[39mFalse\u001b[39;49;00m, order\u001b[39m=\u001b[39;49morder)\n",
      "\u001b[1;31mValueError\u001b[0m: invalid literal for int() with base 10: '[\\'silli\\', \\'disappoint\\', \\'know\\', \\'projeckt\\', \\'red\\', \\'delay\\', \\'core\\', \\'3\\', \"it\\'ll\", \\'worth\\', \\'wait\\']'"
     ]
    }
   ],
   "source": [
    "x_train = train_df.tweet.values\n",
    "y_train = train_df.sentiment.values\n",
    "x_test = test_df.tweet.values\n",
    "y_test = test_df.sentiment.values\n",
    "\n",
    "x_train = pad_sequences(x_train, maxlen=250)\n",
    "x_test = pad_sequences(x_test, maxlen=250)\n",
    "\n",
    "\n",
    "print(y_train)\n"
   ]
  },
  {
   "cell_type": "code",
   "execution_count": 266,
   "id": "88ef4c91",
   "metadata": {},
   "outputs": [
    {
     "name": "stderr",
     "output_type": "stream",
     "text": [
      "C:\\Users\\abhij\\AppData\\Local\\Temp\\ipykernel_38704\\1372800198.py:15: VisibleDeprecationWarning: Creating an ndarray from ragged nested sequences (which is a list-or-tuple of lists-or-tuples-or ndarrays with different lengths or shapes) is deprecated. If you meant to do this, you must specify 'dtype=object' when creating the ndarray.\n",
      "  X_fold = np.array(X_fold)\n",
      "C:\\Users\\abhij\\AppData\\Local\\Temp\\ipykernel_38704\\1372800198.py:16: VisibleDeprecationWarning: Creating an ndarray from ragged nested sequences (which is a list-or-tuple of lists-or-tuples-or ndarrays with different lengths or shapes) is deprecated. If you meant to do this, you must specify 'dtype=object' when creating the ndarray.\n",
      "  y_fold = np.array(y_fold)\n"
     ]
    }
   ],
   "source": [
    "#SPlit the data\n",
    "from sklearn.model_selection import KFold\n",
    "from helpers import split_data_using_percentage\n",
    "\n",
    "kf = KFold(n_splits=10, shuffle=True)\n",
    "\n",
    "X_fold = list()\n",
    "y_fold = list()\n",
    "\n",
    "for _, fold in kf.split(x_train):\n",
    "    \n",
    "    X_fold.append(x_train[fold])\n",
    "    y_fold.append(y_train[fold])\n",
    "    \n",
    "X_fold = np.array(X_fold)\n",
    "y_fold = np.array(y_fold)\n",
    "\n",
    "# The 0th fold will be our known labeled, the rest folds are assumed to be unlabeled\n",
    "X_train = X_fold[0]\n",
    "y_train = y_fold[0]\n"
   ]
  },
  {
   "cell_type": "code",
   "execution_count": 267,
   "id": "d7c15271",
   "metadata": {},
   "outputs": [],
   "source": [
    "\n",
    "\n",
    "\n",
    "def vectorizeDf(vctr) :\n",
    "    vectorizer = CountVectorizer()\n",
    "    vectorizer.fit(vctr)\n",
    "    vctr = vectorizer.transform(vctr)\n",
    "    return vctr\n",
    "\n",
    "\n"
   ]
  },
  {
   "cell_type": "code",
   "execution_count": 268,
   "id": "485a17d6",
   "metadata": {},
   "outputs": [
    {
     "name": "stdout",
     "output_type": "stream",
     "text": [
      "  (0, 1810)\t1\n",
      "  (0, 3443)\t1\n",
      "  (1, 4589)\t1\n",
      "  (1, 5558)\t1\n",
      "  (1, 6327)\t1\n",
      "  (2, 613)\t1\n",
      "  (2, 2382)\t1\n",
      "  (2, 2444)\t1\n",
      "  (2, 2709)\t1\n",
      "  (2, 3440)\t1\n",
      "  (2, 3812)\t1\n",
      "  (2, 4183)\t1\n",
      "  (2, 5443)\t1\n",
      "  (2, 5520)\t1\n",
      "  (3, 5071)\t1\n",
      "  (5, 491)\t1\n",
      "  (5, 791)\t1\n",
      "  (5, 887)\t1\n",
      "  (5, 1858)\t1\n",
      "  (5, 2382)\t1\n",
      "  (5, 2566)\t1\n",
      "  (5, 3586)\t1\n",
      "  (5, 4310)\t1\n",
      "  (5, 4483)\t1\n",
      "  (5, 4606)\t1\n",
      "  :\t:\n",
      "  (3868, 1667)\t1\n",
      "  (3868, 2108)\t1\n",
      "  (3868, 2764)\t1\n",
      "  (3868, 3739)\t1\n",
      "  (3868, 4050)\t1\n",
      "  (3868, 4128)\t1\n",
      "  (3868, 4310)\t1\n",
      "  (3868, 5694)\t1\n",
      "  (3869, 2621)\t1\n",
      "  (3869, 5672)\t1\n",
      "  (3870, 1263)\t1\n",
      "  (3870, 1412)\t1\n",
      "  (3870, 1500)\t1\n",
      "  (3870, 2748)\t1\n",
      "  (3870, 3907)\t1\n",
      "  (3870, 4050)\t1\n",
      "  (3870, 5108)\t1\n",
      "  (3870, 5599)\t1\n",
      "  (3870, 5974)\t1\n",
      "  (3870, 6243)\t1\n",
      "  (3871, 576)\t1\n",
      "  (3871, 2748)\t1\n",
      "  (3871, 3313)\t1\n",
      "  (3871, 5738)\t1\n",
      "  (3871, 6164)\t1\n"
     ]
    }
   ],
   "source": [
    "\n",
    "x_it1 = vectorizeDf(X_train)\n",
    "print(x_it1)\n"
   ]
  },
  {
   "cell_type": "code",
   "execution_count": 269,
   "id": "67f3b01b",
   "metadata": {},
   "outputs": [
    {
     "name": "stdout",
     "output_type": "stream",
     "text": [
      "[\"['lil', 'disappoint']\" \"['yasss', 'team', 'raven']\"\n",
      " \"['fortnit', 'take', 'lightsab', 'past', 'movi', 'annoy', 'guy', 'fuck', 'suck']\"\n",
      " ... \"['good', 'time', '🤣']\"\n",
      " \"['sigh', 'one', 'corrupt', 'compani', 'charg', 'vaccin', 'test', 'wonder', 'happen', 'next']\"\n",
      " '[\\'know\\', \"what\\'\", \\'happen\\', \\'trailer\\', \\'amaz\\']']\n"
     ]
    }
   ],
   "source": [
    "print(X_train)"
   ]
  },
  {
   "cell_type": "code",
   "execution_count": 270,
   "id": "dd4dd08f",
   "metadata": {},
   "outputs": [
    {
     "name": "stdout",
     "output_type": "stream",
     "text": [
      "(3872, 6416)\n",
      "(3872,)\n",
      "(3871, 6429)\n",
      "(3871,)\n"
     ]
    },
    {
     "ename": "ValueError",
     "evalue": "X has 6429 features per sample; expecting 6416",
     "output_type": "error",
     "traceback": [
      "\u001b[1;31m---------------------------------------------------------------------------\u001b[0m",
      "\u001b[1;31mValueError\u001b[0m                                Traceback (most recent call last)",
      "\u001b[1;32md:\\Git\\RCS-Semi-Supervised-Learning\\Code\\Self Training.ipynb Cell 21\u001b[0m in \u001b[0;36m<cell line: 20>\u001b[1;34m()\u001b[0m\n\u001b[0;32m     <a href='vscode-notebook-cell:/d%3A/Git/RCS-Semi-Supervised-Learning/Code/Self%20Training.ipynb#X31sZmlsZQ%3D%3D?line=15'>16</a>\u001b[0m classifier \u001b[39m=\u001b[39m LogisticRegression (max_iter\u001b[39m=\u001b[39m\u001b[39m1000\u001b[39m)\n\u001b[0;32m     <a href='vscode-notebook-cell:/d%3A/Git/RCS-Semi-Supervised-Learning/Code/Self%20Training.ipynb#X31sZmlsZQ%3D%3D?line=16'>17</a>\u001b[0m classifier\u001b[39m.\u001b[39mfit(x_it1,y_train)\n\u001b[1;32m---> <a href='vscode-notebook-cell:/d%3A/Git/RCS-Semi-Supervised-Learning/Code/Self%20Training.ipynb#X31sZmlsZQ%3D%3D?line=19'>20</a>\u001b[0m classifier\u001b[39m.\u001b[39;49mpredict(x_test)\n\u001b[0;32m     <a href='vscode-notebook-cell:/d%3A/Git/RCS-Semi-Supervised-Learning/Code/Self%20Training.ipynb#X31sZmlsZQ%3D%3D?line=21'>22</a>\u001b[0m score \u001b[39m=\u001b[39m classifier\u001b[39m.\u001b[39mscore(x_test, y_test)\n\u001b[0;32m     <a href='vscode-notebook-cell:/d%3A/Git/RCS-Semi-Supervised-Learning/Code/Self%20Training.ipynb#X31sZmlsZQ%3D%3D?line=22'>23</a>\u001b[0m \u001b[39mprint\u001b[39m(\u001b[39m\"\u001b[39m\u001b[39maccuracy\u001b[39m\u001b[39m\"\u001b[39m, score)\n",
      "File \u001b[1;32mc:\\Users\\abhij\\anaconda3\\lib\\site-packages\\sklearn\\linear_model\\_base.py:309\u001b[0m, in \u001b[0;36mLinearClassifierMixin.predict\u001b[1;34m(self, X)\u001b[0m\n\u001b[0;32m    295\u001b[0m \u001b[39mdef\u001b[39;00m \u001b[39mpredict\u001b[39m(\u001b[39mself\u001b[39m, X):\n\u001b[0;32m    296\u001b[0m     \u001b[39m\"\"\"\u001b[39;00m\n\u001b[0;32m    297\u001b[0m \u001b[39m    Predict class labels for samples in X.\u001b[39;00m\n\u001b[0;32m    298\u001b[0m \n\u001b[1;32m   (...)\u001b[0m\n\u001b[0;32m    307\u001b[0m \u001b[39m        Predicted class label per sample.\u001b[39;00m\n\u001b[0;32m    308\u001b[0m \u001b[39m    \"\"\"\u001b[39;00m\n\u001b[1;32m--> 309\u001b[0m     scores \u001b[39m=\u001b[39m \u001b[39mself\u001b[39;49m\u001b[39m.\u001b[39;49mdecision_function(X)\n\u001b[0;32m    310\u001b[0m     \u001b[39mif\u001b[39;00m \u001b[39mlen\u001b[39m(scores\u001b[39m.\u001b[39mshape) \u001b[39m==\u001b[39m \u001b[39m1\u001b[39m:\n\u001b[0;32m    311\u001b[0m         indices \u001b[39m=\u001b[39m (scores \u001b[39m>\u001b[39m \u001b[39m0\u001b[39m)\u001b[39m.\u001b[39mastype(\u001b[39mint\u001b[39m)\n",
      "File \u001b[1;32mc:\\Users\\abhij\\anaconda3\\lib\\site-packages\\sklearn\\linear_model\\_base.py:288\u001b[0m, in \u001b[0;36mLinearClassifierMixin.decision_function\u001b[1;34m(self, X)\u001b[0m\n\u001b[0;32m    286\u001b[0m n_features \u001b[39m=\u001b[39m \u001b[39mself\u001b[39m\u001b[39m.\u001b[39mcoef_\u001b[39m.\u001b[39mshape[\u001b[39m1\u001b[39m]\n\u001b[0;32m    287\u001b[0m \u001b[39mif\u001b[39;00m X\u001b[39m.\u001b[39mshape[\u001b[39m1\u001b[39m] \u001b[39m!=\u001b[39m n_features:\n\u001b[1;32m--> 288\u001b[0m     \u001b[39mraise\u001b[39;00m \u001b[39mValueError\u001b[39;00m(\u001b[39m\"\u001b[39m\u001b[39mX has \u001b[39m\u001b[39m%d\u001b[39;00m\u001b[39m features per sample; expecting \u001b[39m\u001b[39m%d\u001b[39;00m\u001b[39m\"\u001b[39m\n\u001b[0;32m    289\u001b[0m                      \u001b[39m%\u001b[39m (X\u001b[39m.\u001b[39mshape[\u001b[39m1\u001b[39m], n_features))\n\u001b[0;32m    291\u001b[0m scores \u001b[39m=\u001b[39m safe_sparse_dot(X, \u001b[39mself\u001b[39m\u001b[39m.\u001b[39mcoef_\u001b[39m.\u001b[39mT,\n\u001b[0;32m    292\u001b[0m                          dense_output\u001b[39m=\u001b[39m\u001b[39mTrue\u001b[39;00m) \u001b[39m+\u001b[39m \u001b[39mself\u001b[39m\u001b[39m.\u001b[39mintercept_\n\u001b[0;32m    293\u001b[0m \u001b[39mreturn\u001b[39;00m scores\u001b[39m.\u001b[39mravel() \u001b[39mif\u001b[39;00m scores\u001b[39m.\u001b[39mshape[\u001b[39m1\u001b[39m] \u001b[39m==\u001b[39m \u001b[39m1\u001b[39m \u001b[39melse\u001b[39;00m scores\n",
      "\u001b[1;31mValueError\u001b[0m: X has 6429 features per sample; expecting 6416"
     ]
    }
   ],
   "source": [
    "x_it1 = vectorizeDf(X_train)\n",
    "\n",
    "x_test = X_fold[1]\n",
    "y_test = y_fold[1]\n",
    "\n",
    "x_test = vectorizeDf(x_test)\n",
    "\n",
    "print(x_it1.shape)\n",
    "print(y_train.shape)\n",
    "\n",
    "print(x_test.shape)\n",
    "print(y_test.shape)\n",
    "\n",
    "\n",
    "\n",
    "classifier = LogisticRegression (max_iter=1000)\n",
    "classifier.fit(x_it1,y_train)\n",
    "\n",
    "\n",
    "classifier.predict(x_test)\n",
    "\n",
    "score = classifier.score(x_test, y_test)\n",
    "print(\"accuracy\", score)\n",
    "\n",
    "# model = create_model()\n",
    "# model.fit(X_train[:-1000], y_train[:-1000], epochs=2, \n",
    "#           validation_data=(X_train[-1000:], y_train[-1000:]))\n",
    "          \n",
    "# predictions = model.predict(X_fold[1])"
   ]
  },
  {
   "cell_type": "code",
   "execution_count": null,
   "id": "79aa262d",
   "metadata": {},
   "outputs": [],
   "source": [
    "x_train, x_test, y_train, y_test = train_test_split(x,y, random_state = 42,test_size= 0.2)"
   ]
  },
  {
   "cell_type": "code",
   "execution_count": null,
   "id": "e11367e7",
   "metadata": {},
   "outputs": [
    {
     "name": "stdout",
     "output_type": "stream",
     "text": [
      "Index(['id', 'entity', 'sentiment', 'tweet'], dtype='object')\n"
     ]
    },
    {
     "ename": "KeyError",
     "evalue": "\"None of [Int64Index([2401, 2401, 2401, 2401, 2401, 2401, 2402, 2402, 2402, 2402,\\n            ...\\n            9199, 9199, 9199, 9199, 9200, 9200, 9200, 9200, 9200, 9200],\\n           dtype='int64', length=43013)] are in the [columns]\"",
     "output_type": "error",
     "traceback": [
      "\u001b[1;31m---------------------------------------------------------------------------\u001b[0m",
      "\u001b[1;31mKeyError\u001b[0m                                  Traceback (most recent call last)",
      "\u001b[1;32md:\\Git\\RCS-Semi-Supervised-Learning\\Code\\Self Training.ipynb Cell 17\u001b[0m in \u001b[0;36m<cell line: 1>\u001b[1;34m()\u001b[0m\n\u001b[1;32m----> <a href='vscode-notebook-cell:/d%3A/Git/RCS-Semi-Supervised-Learning/Code/Self%20Training.ipynb#X21sZmlsZQ%3D%3D?line=0'>1</a>\u001b[0m split_df \u001b[39m=\u001b[39m split_data_using_percentage(cleaned_df, \u001b[39m10\u001b[39;49m, \u001b[39m'\u001b[39;49m\u001b[39msentiment\u001b[39;49m\u001b[39m'\u001b[39;49m)\n",
      "File \u001b[1;32md:\\Git\\RCS-Semi-Supervised-Learning\\Code\\helpers.py:7\u001b[0m, in \u001b[0;36msplit_data_using_percentage\u001b[1;34m(df, percentage, categories_column)\u001b[0m\n\u001b[0;32m      5\u001b[0m columns \u001b[39m=\u001b[39m df\u001b[39m.\u001b[39mcolumns\n\u001b[0;32m      6\u001b[0m \u001b[39mprint\u001b[39m(columns)\n\u001b[1;32m----> 7\u001b[0m \u001b[39mprint\u001b[39m(df[df[\u001b[39m'\u001b[39;49m\u001b[39mid\u001b[39;49m\u001b[39m'\u001b[39;49m]])\n\u001b[0;32m      8\u001b[0m \u001b[39mfor\u001b[39;00m column \u001b[39min\u001b[39;00m columns:\n\u001b[0;32m      9\u001b[0m     \u001b[39mprint\u001b[39m(column)\n",
      "File \u001b[1;32mc:\\Users\\abhij\\anaconda3\\lib\\site-packages\\pandas\\core\\frame.py:3030\u001b[0m, in \u001b[0;36mDataFrame.__getitem__\u001b[1;34m(self, key)\u001b[0m\n\u001b[0;32m   3028\u001b[0m     \u001b[39mif\u001b[39;00m is_iterator(key):\n\u001b[0;32m   3029\u001b[0m         key \u001b[39m=\u001b[39m \u001b[39mlist\u001b[39m(key)\n\u001b[1;32m-> 3030\u001b[0m     indexer \u001b[39m=\u001b[39m \u001b[39mself\u001b[39;49m\u001b[39m.\u001b[39;49mloc\u001b[39m.\u001b[39;49m_get_listlike_indexer(key, axis\u001b[39m=\u001b[39;49m\u001b[39m1\u001b[39;49m, raise_missing\u001b[39m=\u001b[39;49m\u001b[39mTrue\u001b[39;49;00m)[\u001b[39m1\u001b[39m]\n\u001b[0;32m   3032\u001b[0m \u001b[39m# take() does not accept boolean indexers\u001b[39;00m\n\u001b[0;32m   3033\u001b[0m \u001b[39mif\u001b[39;00m \u001b[39mgetattr\u001b[39m(indexer, \u001b[39m\"\u001b[39m\u001b[39mdtype\u001b[39m\u001b[39m\"\u001b[39m, \u001b[39mNone\u001b[39;00m) \u001b[39m==\u001b[39m \u001b[39mbool\u001b[39m:\n",
      "File \u001b[1;32mc:\\Users\\abhij\\anaconda3\\lib\\site-packages\\pandas\\core\\indexing.py:1266\u001b[0m, in \u001b[0;36m_LocIndexer._get_listlike_indexer\u001b[1;34m(self, key, axis, raise_missing)\u001b[0m\n\u001b[0;32m   1263\u001b[0m \u001b[39melse\u001b[39;00m:\n\u001b[0;32m   1264\u001b[0m     keyarr, indexer, new_indexer \u001b[39m=\u001b[39m ax\u001b[39m.\u001b[39m_reindex_non_unique(keyarr)\n\u001b[1;32m-> 1266\u001b[0m \u001b[39mself\u001b[39;49m\u001b[39m.\u001b[39;49m_validate_read_indexer(keyarr, indexer, axis, raise_missing\u001b[39m=\u001b[39;49mraise_missing)\n\u001b[0;32m   1267\u001b[0m \u001b[39mreturn\u001b[39;00m keyarr, indexer\n",
      "File \u001b[1;32mc:\\Users\\abhij\\anaconda3\\lib\\site-packages\\pandas\\core\\indexing.py:1308\u001b[0m, in \u001b[0;36m_LocIndexer._validate_read_indexer\u001b[1;34m(self, key, indexer, axis, raise_missing)\u001b[0m\n\u001b[0;32m   1306\u001b[0m \u001b[39mif\u001b[39;00m missing \u001b[39m==\u001b[39m \u001b[39mlen\u001b[39m(indexer):\n\u001b[0;32m   1307\u001b[0m     axis_name \u001b[39m=\u001b[39m \u001b[39mself\u001b[39m\u001b[39m.\u001b[39mobj\u001b[39m.\u001b[39m_get_axis_name(axis)\n\u001b[1;32m-> 1308\u001b[0m     \u001b[39mraise\u001b[39;00m \u001b[39mKeyError\u001b[39;00m(\u001b[39mf\u001b[39m\u001b[39m\"\u001b[39m\u001b[39mNone of [\u001b[39m\u001b[39m{\u001b[39;00mkey\u001b[39m}\u001b[39;00m\u001b[39m] are in the [\u001b[39m\u001b[39m{\u001b[39;00maxis_name\u001b[39m}\u001b[39;00m\u001b[39m]\u001b[39m\u001b[39m\"\u001b[39m)\n\u001b[0;32m   1310\u001b[0m ax \u001b[39m=\u001b[39m \u001b[39mself\u001b[39m\u001b[39m.\u001b[39mobj\u001b[39m.\u001b[39m_get_axis(axis)\n\u001b[0;32m   1312\u001b[0m \u001b[39m# We (temporarily) allow for some missing keys with .loc, except in\u001b[39;00m\n\u001b[0;32m   1313\u001b[0m \u001b[39m# some cases (e.g. setting) in which \"raise_missing\" will be False\u001b[39;00m\n",
      "\u001b[1;31mKeyError\u001b[0m: \"None of [Int64Index([2401, 2401, 2401, 2401, 2401, 2401, 2402, 2402, 2402, 2402,\\n            ...\\n            9199, 9199, 9199, 9199, 9200, 9200, 9200, 9200, 9200, 9200],\\n           dtype='int64', length=43013)] are in the [columns]\""
     ]
    }
   ],
   "source": [
    "split_df = split_data_using_percentage(cleaned_df, 10, 'sentiment')"
   ]
  },
  {
   "cell_type": "code",
   "execution_count": null,
   "id": "5d183851",
   "metadata": {},
   "outputs": [],
   "source": [
    "# split_df"
   ]
  },
  {
   "cell_type": "code",
   "execution_count": null,
   "id": "39eec723",
   "metadata": {},
   "outputs": [],
   "source": []
  }
 ],
 "metadata": {
  "kernelspec": {
   "display_name": "base",
   "language": "python",
   "name": "python3"
  },
  "language_info": {
   "codemirror_mode": {
    "name": "ipython",
    "version": 3
   },
   "file_extension": ".py",
   "mimetype": "text/x-python",
   "name": "python",
   "nbconvert_exporter": "python",
   "pygments_lexer": "ipython3",
   "version": "3.8.8"
  },
  "vscode": {
   "interpreter": {
    "hash": "198dc38c81252feb4faa0d475279f5f6c993dd4570bd3709069413259282040c"
   }
  }
 },
 "nbformat": 4,
 "nbformat_minor": 5
}
