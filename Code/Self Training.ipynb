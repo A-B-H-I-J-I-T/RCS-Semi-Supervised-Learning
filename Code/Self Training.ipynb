{
 "cells": [
  {
   "cell_type": "markdown",
   "id": "4e21d01c",
   "metadata": {},
   "source": [
    "### Cleaned Data Import"
   ]
  },
  {
   "cell_type": "code",
   "execution_count": 218,
   "id": "c7adcec3",
   "metadata": {},
   "outputs": [],
   "source": [
    "import pandas as pd\n",
    "import matplotlib.pyplot as plt\n",
    "import numpy as np\n",
    "import seaborn as sb\n",
    "from sklearn.linear_model import LogisticRegression\n",
    "from sklearn.feature_extraction.text import CountVectorizer\n",
    "from sklearn.model_selection import train_test_split\n",
    "from sklearn.metrics import classification_report, confusion_matrix"
   ]
  },
  {
   "cell_type": "code",
   "execution_count": 219,
   "id": "ad8dde8c",
   "metadata": {},
   "outputs": [],
   "source": [
    "cleaned_df = pd.read_csv('../Data/cleaned_tweets.csv')"
   ]
  },
  {
   "cell_type": "code",
   "execution_count": 220,
   "id": "cb1694e1",
   "metadata": {},
   "outputs": [
    {
     "data": {
      "text/plain": [
       "Index(['Unnamed: 0', 'id', 'entity', 'sentiment', 'tweet'], dtype='object')"
      ]
     },
     "execution_count": 220,
     "metadata": {},
     "output_type": "execute_result"
    }
   ],
   "source": [
    "cleaned_df.columns"
   ]
  },
  {
   "cell_type": "code",
   "execution_count": 221,
   "id": "17371aa6",
   "metadata": {},
   "outputs": [],
   "source": [
    "cleaned_df.drop('Unnamed: 0', inplace=True, axis=1)"
   ]
  },
  {
   "cell_type": "code",
   "execution_count": 222,
   "id": "58deac30",
   "metadata": {},
   "outputs": [
    {
     "data": {
      "text/html": [
       "<div>\n",
       "<style scoped>\n",
       "    .dataframe tbody tr th:only-of-type {\n",
       "        vertical-align: middle;\n",
       "    }\n",
       "\n",
       "    .dataframe tbody tr th {\n",
       "        vertical-align: top;\n",
       "    }\n",
       "\n",
       "    .dataframe thead th {\n",
       "        text-align: right;\n",
       "    }\n",
       "</style>\n",
       "<table border=\"1\" class=\"dataframe\">\n",
       "  <thead>\n",
       "    <tr style=\"text-align: right;\">\n",
       "      <th></th>\n",
       "      <th>id</th>\n",
       "      <th>entity</th>\n",
       "      <th>sentiment</th>\n",
       "      <th>tweet</th>\n",
       "    </tr>\n",
       "  </thead>\n",
       "  <tbody>\n",
       "    <tr>\n",
       "      <th>0</th>\n",
       "      <td>2401</td>\n",
       "      <td>Borderlands</td>\n",
       "      <td>Positive</td>\n",
       "      <td>['im', 'get', 'borderland', 'murder']</td>\n",
       "    </tr>\n",
       "    <tr>\n",
       "      <th>1</th>\n",
       "      <td>2401</td>\n",
       "      <td>Borderlands</td>\n",
       "      <td>Positive</td>\n",
       "      <td>['come', 'border', 'kill']</td>\n",
       "    </tr>\n",
       "    <tr>\n",
       "      <th>2</th>\n",
       "      <td>2401</td>\n",
       "      <td>Borderlands</td>\n",
       "      <td>Positive</td>\n",
       "      <td>['im', 'get', 'borderland', 'kill']</td>\n",
       "    </tr>\n",
       "    <tr>\n",
       "      <th>3</th>\n",
       "      <td>2401</td>\n",
       "      <td>Borderlands</td>\n",
       "      <td>Positive</td>\n",
       "      <td>['im', 'come', 'borderland', 'murder']</td>\n",
       "    </tr>\n",
       "    <tr>\n",
       "      <th>4</th>\n",
       "      <td>2401</td>\n",
       "      <td>Borderlands</td>\n",
       "      <td>Positive</td>\n",
       "      <td>['im', 'get', 'borderland', '2', 'murder']</td>\n",
       "    </tr>\n",
       "  </tbody>\n",
       "</table>\n",
       "</div>"
      ],
      "text/plain": [
       "     id       entity sentiment                                       tweet\n",
       "0  2401  Borderlands  Positive       ['im', 'get', 'borderland', 'murder']\n",
       "1  2401  Borderlands  Positive                  ['come', 'border', 'kill']\n",
       "2  2401  Borderlands  Positive         ['im', 'get', 'borderland', 'kill']\n",
       "3  2401  Borderlands  Positive      ['im', 'come', 'borderland', 'murder']\n",
       "4  2401  Borderlands  Positive  ['im', 'get', 'borderland', '2', 'murder']"
      ]
     },
     "execution_count": 222,
     "metadata": {},
     "output_type": "execute_result"
    }
   ],
   "source": [
    "cleaned_df.head(5)"
   ]
  },
  {
   "cell_type": "markdown",
   "id": "5d5d88cc",
   "metadata": {},
   "source": [
    "### Baseline model for self-training"
   ]
  },
  {
   "cell_type": "code",
   "execution_count": 223,
   "id": "e56cd1a0",
   "metadata": {},
   "outputs": [],
   "source": [
    "from BaselineModel import BaselineModel"
   ]
  },
  {
   "cell_type": "markdown",
   "id": "07da3c7b",
   "metadata": {},
   "source": [
    "### 1. Logistic Regression"
   ]
  },
  {
   "cell_type": "code",
   "execution_count": 224,
   "id": "f0fe396e",
   "metadata": {},
   "outputs": [],
   "source": [
    "from sklearn.feature_extraction.text import CountVectorizer, TfidfVectorizer\n",
    "from sklearn.linear_model import LogisticRegression"
   ]
  },
  {
   "cell_type": "code",
   "execution_count": 225,
   "id": "06ce7176",
   "metadata": {},
   "outputs": [],
   "source": [
    "count_vectorizer = CountVectorizer()"
   ]
  },
  {
   "cell_type": "code",
   "execution_count": 226,
   "id": "3a36749c",
   "metadata": {},
   "outputs": [],
   "source": [
    "logistic_regression = LogisticRegression()"
   ]
  },
  {
   "cell_type": "code",
   "execution_count": 227,
   "id": "cbddf710",
   "metadata": {},
   "outputs": [],
   "source": [
    "lr_baseline_model = BaselineModel(classifier=logistic_regression, vectorizer=count_vectorizer)"
   ]
  },
  {
   "cell_type": "code",
   "execution_count": 228,
   "id": "45681cd1",
   "metadata": {},
   "outputs": [
    {
     "data": {
      "text/plain": [
       "<4x4 sparse matrix of type '<class 'numpy.int64'>'\n",
       "\twith 4 stored elements in Compressed Sparse Row format>"
      ]
     },
     "execution_count": 228,
     "metadata": {},
     "output_type": "execute_result"
    }
   ],
   "source": [
    "lr_baseline_model.fit_transform(cleaned_df)"
   ]
  },
  {
   "cell_type": "code",
   "execution_count": 229,
   "id": "5090e5cf",
   "metadata": {},
   "outputs": [],
   "source": [
    "train_df, test_df = train_test_split(cleaned_df, test_size=0.2)"
   ]
  },
  {
   "cell_type": "code",
   "execution_count": 230,
   "id": "aae1211e",
   "metadata": {},
   "outputs": [
    {
     "name": "stdout",
     "output_type": "stream",
     "text": [
      "['Negative' 'Negative' 'Negative' ... 'Negative' 'Positive' 'Negative']\n"
     ]
    }
   ],
   "source": [
    "x_train = train_df.tweet.values\n",
    "y_train = train_df.sentiment.values\n",
    "x_test = test_df.tweet.values\n",
    "y_test = test_df.sentiment.values\n",
    "\n",
    "\n",
    "print(y_train)\n"
   ]
  },
  {
   "cell_type": "code",
   "execution_count": 231,
   "id": "88ef4c91",
   "metadata": {},
   "outputs": [],
   "source": [
    "#SPlit the data\n",
    "from sklearn.model_selection import KFold\n",
    "from helpers import split_data_using_percentage\n",
    "\n",
    "kf = KFold(n_splits=10, shuffle=True)\n",
    "\n",
    "X_fold = list()\n",
    "y_fold = list()\n",
    "\n",
    "for _, fold in kf.split(x_train):\n",
    "    \n",
    "    X_fold.append(x_train[fold])\n",
    "    y_fold.append(y_train[fold])\n",
    "    \n",
    "X_fold = np.array(X_fold)\n",
    "y_fold = np.array(y_fold)\n",
    "\n",
    "# The 0th fold will be our known labeled, the rest folds are assumed to be unlabeled\n",
    "X_train = X_fold[0]\n",
    "y_train = y_fold[0]\n"
   ]
  },
  {
   "cell_type": "code",
   "execution_count": 232,
   "id": "d7c15271",
   "metadata": {},
   "outputs": [],
   "source": [
    "\n",
    "def vectorizeDf(vctr) :\n",
    "    vectorizer = CountVectorizer()\n",
    "    vectorizer.fit(vctr)\n",
    "    vctr = vectorizer.transform(vctr)\n",
    "    return vctr"
   ]
  },
  {
   "cell_type": "code",
   "execution_count": 233,
   "id": "dd4dd08f",
   "metadata": {},
   "outputs": [
    {
     "name": "stdout",
     "output_type": "stream",
     "text": [
      "(3441, 5990)\n",
      "(3441,)\n",
      "(3441, 6126)\n",
      "(3441,)\n"
     ]
    },
    {
     "ename": "ValueError",
     "evalue": "X has 6126 features per sample; expecting 5990",
     "output_type": "error",
     "traceback": [
      "\u001b[1;31m---------------------------------------------------------------------------\u001b[0m",
      "\u001b[1;31mValueError\u001b[0m                                Traceback (most recent call last)",
      "\u001b[1;32md:\\Git\\RCS-Semi-Supervised-Learning\\Code\\Self Training.ipynb Cell 19\u001b[0m in \u001b[0;36m<cell line: 18>\u001b[1;34m()\u001b[0m\n\u001b[0;32m     <a href='vscode-notebook-cell:/d%3A/Git/RCS-Semi-Supervised-Learning/Code/Self%20Training.ipynb#X31sZmlsZQ%3D%3D?line=13'>14</a>\u001b[0m classifier \u001b[39m=\u001b[39m LogisticRegression (max_iter\u001b[39m=\u001b[39m\u001b[39m1000\u001b[39m)\n\u001b[0;32m     <a href='vscode-notebook-cell:/d%3A/Git/RCS-Semi-Supervised-Learning/Code/Self%20Training.ipynb#X31sZmlsZQ%3D%3D?line=14'>15</a>\u001b[0m classifier\u001b[39m.\u001b[39mfit(x_it1,y_train)\n\u001b[1;32m---> <a href='vscode-notebook-cell:/d%3A/Git/RCS-Semi-Supervised-Learning/Code/Self%20Training.ipynb#X31sZmlsZQ%3D%3D?line=17'>18</a>\u001b[0m classifier\u001b[39m.\u001b[39;49mpredict(x_test)\n\u001b[0;32m     <a href='vscode-notebook-cell:/d%3A/Git/RCS-Semi-Supervised-Learning/Code/Self%20Training.ipynb#X31sZmlsZQ%3D%3D?line=19'>20</a>\u001b[0m score \u001b[39m=\u001b[39m classifier\u001b[39m.\u001b[39mscore(x_test, y_test)\n\u001b[0;32m     <a href='vscode-notebook-cell:/d%3A/Git/RCS-Semi-Supervised-Learning/Code/Self%20Training.ipynb#X31sZmlsZQ%3D%3D?line=20'>21</a>\u001b[0m \u001b[39mprint\u001b[39m(\u001b[39m\"\u001b[39m\u001b[39maccuracy\u001b[39m\u001b[39m\"\u001b[39m, score)\n",
      "File \u001b[1;32mc:\\Users\\abhij\\anaconda3\\lib\\site-packages\\sklearn\\linear_model\\_base.py:309\u001b[0m, in \u001b[0;36mLinearClassifierMixin.predict\u001b[1;34m(self, X)\u001b[0m\n\u001b[0;32m    295\u001b[0m \u001b[39mdef\u001b[39;00m \u001b[39mpredict\u001b[39m(\u001b[39mself\u001b[39m, X):\n\u001b[0;32m    296\u001b[0m     \u001b[39m\"\"\"\u001b[39;00m\n\u001b[0;32m    297\u001b[0m \u001b[39m    Predict class labels for samples in X.\u001b[39;00m\n\u001b[0;32m    298\u001b[0m \n\u001b[1;32m   (...)\u001b[0m\n\u001b[0;32m    307\u001b[0m \u001b[39m        Predicted class label per sample.\u001b[39;00m\n\u001b[0;32m    308\u001b[0m \u001b[39m    \"\"\"\u001b[39;00m\n\u001b[1;32m--> 309\u001b[0m     scores \u001b[39m=\u001b[39m \u001b[39mself\u001b[39;49m\u001b[39m.\u001b[39;49mdecision_function(X)\n\u001b[0;32m    310\u001b[0m     \u001b[39mif\u001b[39;00m \u001b[39mlen\u001b[39m(scores\u001b[39m.\u001b[39mshape) \u001b[39m==\u001b[39m \u001b[39m1\u001b[39m:\n\u001b[0;32m    311\u001b[0m         indices \u001b[39m=\u001b[39m (scores \u001b[39m>\u001b[39m \u001b[39m0\u001b[39m)\u001b[39m.\u001b[39mastype(\u001b[39mint\u001b[39m)\n",
      "File \u001b[1;32mc:\\Users\\abhij\\anaconda3\\lib\\site-packages\\sklearn\\linear_model\\_base.py:288\u001b[0m, in \u001b[0;36mLinearClassifierMixin.decision_function\u001b[1;34m(self, X)\u001b[0m\n\u001b[0;32m    286\u001b[0m n_features \u001b[39m=\u001b[39m \u001b[39mself\u001b[39m\u001b[39m.\u001b[39mcoef_\u001b[39m.\u001b[39mshape[\u001b[39m1\u001b[39m]\n\u001b[0;32m    287\u001b[0m \u001b[39mif\u001b[39;00m X\u001b[39m.\u001b[39mshape[\u001b[39m1\u001b[39m] \u001b[39m!=\u001b[39m n_features:\n\u001b[1;32m--> 288\u001b[0m     \u001b[39mraise\u001b[39;00m \u001b[39mValueError\u001b[39;00m(\u001b[39m\"\u001b[39m\u001b[39mX has \u001b[39m\u001b[39m%d\u001b[39;00m\u001b[39m features per sample; expecting \u001b[39m\u001b[39m%d\u001b[39;00m\u001b[39m\"\u001b[39m\n\u001b[0;32m    289\u001b[0m                      \u001b[39m%\u001b[39m (X\u001b[39m.\u001b[39mshape[\u001b[39m1\u001b[39m], n_features))\n\u001b[0;32m    291\u001b[0m scores \u001b[39m=\u001b[39m safe_sparse_dot(X, \u001b[39mself\u001b[39m\u001b[39m.\u001b[39mcoef_\u001b[39m.\u001b[39mT,\n\u001b[0;32m    292\u001b[0m                          dense_output\u001b[39m=\u001b[39m\u001b[39mTrue\u001b[39;00m) \u001b[39m+\u001b[39m \u001b[39mself\u001b[39m\u001b[39m.\u001b[39mintercept_\n\u001b[0;32m    293\u001b[0m \u001b[39mreturn\u001b[39;00m scores\u001b[39m.\u001b[39mravel() \u001b[39mif\u001b[39;00m scores\u001b[39m.\u001b[39mshape[\u001b[39m1\u001b[39m] \u001b[39m==\u001b[39m \u001b[39m1\u001b[39m \u001b[39melse\u001b[39;00m scores\n",
      "\u001b[1;31mValueError\u001b[0m: X has 6126 features per sample; expecting 5990"
     ]
    }
   ],
   "source": [
    "x_it1 = vectorizeDf(X_train)\n",
    "\n",
    "x_test = X_fold[1]\n",
    "y_test = y_fold[1]\n",
    "\n",
    "x_test = vectorizeDf(x_test)\n",
    "\n",
    "print(x_it1.shape)\n",
    "print(y_train.shape)\n",
    "\n",
    "print(x_test.shape)\n",
    "print(y_test.shape)\n",
    "\n",
    "classifier = LogisticRegression (max_iter=1000)\n",
    "classifier.fit(x_it1,y_train)\n",
    "\n",
    "\n",
    "classifier.predict(x_test)\n",
    "\n",
    "score = classifier.score(x_test, y_test)\n",
    "print(\"accuracy\", score)\n",
    "\n",
    "# model = create_model()\n",
    "# model.fit(X_train[:-1000], y_train[:-1000], epochs=2, \n",
    "#           validation_data=(X_train[-1000:], y_train[-1000:]))\n",
    "          \n",
    "# predictions = model.predict(X_fold[1])"
   ]
  },
  {
   "cell_type": "code",
   "execution_count": null,
   "id": "79aa262d",
   "metadata": {},
   "outputs": [],
   "source": [
    "x_train, x_test, y_train, y_test = train_test_split(x,y, random_state = 42,test_size= 0.2)"
   ]
  },
  {
   "cell_type": "code",
   "execution_count": null,
   "id": "e11367e7",
   "metadata": {},
   "outputs": [
    {
     "name": "stdout",
     "output_type": "stream",
     "text": [
      "Index(['id', 'entity', 'sentiment', 'tweet'], dtype='object')\n"
     ]
    },
    {
     "ename": "KeyError",
     "evalue": "\"None of [Int64Index([2401, 2401, 2401, 2401, 2401, 2401, 2402, 2402, 2402, 2402,\\n            ...\\n            9199, 9199, 9199, 9199, 9200, 9200, 9200, 9200, 9200, 9200],\\n           dtype='int64', length=43013)] are in the [columns]\"",
     "output_type": "error",
     "traceback": [
      "\u001b[1;31m---------------------------------------------------------------------------\u001b[0m",
      "\u001b[1;31mKeyError\u001b[0m                                  Traceback (most recent call last)",
      "\u001b[1;32md:\\Git\\RCS-Semi-Supervised-Learning\\Code\\Self Training.ipynb Cell 17\u001b[0m in \u001b[0;36m<cell line: 1>\u001b[1;34m()\u001b[0m\n\u001b[1;32m----> <a href='vscode-notebook-cell:/d%3A/Git/RCS-Semi-Supervised-Learning/Code/Self%20Training.ipynb#X21sZmlsZQ%3D%3D?line=0'>1</a>\u001b[0m split_df \u001b[39m=\u001b[39m split_data_using_percentage(cleaned_df, \u001b[39m10\u001b[39;49m, \u001b[39m'\u001b[39;49m\u001b[39msentiment\u001b[39;49m\u001b[39m'\u001b[39;49m)\n",
      "File \u001b[1;32md:\\Git\\RCS-Semi-Supervised-Learning\\Code\\helpers.py:7\u001b[0m, in \u001b[0;36msplit_data_using_percentage\u001b[1;34m(df, percentage, categories_column)\u001b[0m\n\u001b[0;32m      5\u001b[0m columns \u001b[39m=\u001b[39m df\u001b[39m.\u001b[39mcolumns\n\u001b[0;32m      6\u001b[0m \u001b[39mprint\u001b[39m(columns)\n\u001b[1;32m----> 7\u001b[0m \u001b[39mprint\u001b[39m(df[df[\u001b[39m'\u001b[39;49m\u001b[39mid\u001b[39;49m\u001b[39m'\u001b[39;49m]])\n\u001b[0;32m      8\u001b[0m \u001b[39mfor\u001b[39;00m column \u001b[39min\u001b[39;00m columns:\n\u001b[0;32m      9\u001b[0m     \u001b[39mprint\u001b[39m(column)\n",
      "File \u001b[1;32mc:\\Users\\abhij\\anaconda3\\lib\\site-packages\\pandas\\core\\frame.py:3030\u001b[0m, in \u001b[0;36mDataFrame.__getitem__\u001b[1;34m(self, key)\u001b[0m\n\u001b[0;32m   3028\u001b[0m     \u001b[39mif\u001b[39;00m is_iterator(key):\n\u001b[0;32m   3029\u001b[0m         key \u001b[39m=\u001b[39m \u001b[39mlist\u001b[39m(key)\n\u001b[1;32m-> 3030\u001b[0m     indexer \u001b[39m=\u001b[39m \u001b[39mself\u001b[39;49m\u001b[39m.\u001b[39;49mloc\u001b[39m.\u001b[39;49m_get_listlike_indexer(key, axis\u001b[39m=\u001b[39;49m\u001b[39m1\u001b[39;49m, raise_missing\u001b[39m=\u001b[39;49m\u001b[39mTrue\u001b[39;49;00m)[\u001b[39m1\u001b[39m]\n\u001b[0;32m   3032\u001b[0m \u001b[39m# take() does not accept boolean indexers\u001b[39;00m\n\u001b[0;32m   3033\u001b[0m \u001b[39mif\u001b[39;00m \u001b[39mgetattr\u001b[39m(indexer, \u001b[39m\"\u001b[39m\u001b[39mdtype\u001b[39m\u001b[39m\"\u001b[39m, \u001b[39mNone\u001b[39;00m) \u001b[39m==\u001b[39m \u001b[39mbool\u001b[39m:\n",
      "File \u001b[1;32mc:\\Users\\abhij\\anaconda3\\lib\\site-packages\\pandas\\core\\indexing.py:1266\u001b[0m, in \u001b[0;36m_LocIndexer._get_listlike_indexer\u001b[1;34m(self, key, axis, raise_missing)\u001b[0m\n\u001b[0;32m   1263\u001b[0m \u001b[39melse\u001b[39;00m:\n\u001b[0;32m   1264\u001b[0m     keyarr, indexer, new_indexer \u001b[39m=\u001b[39m ax\u001b[39m.\u001b[39m_reindex_non_unique(keyarr)\n\u001b[1;32m-> 1266\u001b[0m \u001b[39mself\u001b[39;49m\u001b[39m.\u001b[39;49m_validate_read_indexer(keyarr, indexer, axis, raise_missing\u001b[39m=\u001b[39;49mraise_missing)\n\u001b[0;32m   1267\u001b[0m \u001b[39mreturn\u001b[39;00m keyarr, indexer\n",
      "File \u001b[1;32mc:\\Users\\abhij\\anaconda3\\lib\\site-packages\\pandas\\core\\indexing.py:1308\u001b[0m, in \u001b[0;36m_LocIndexer._validate_read_indexer\u001b[1;34m(self, key, indexer, axis, raise_missing)\u001b[0m\n\u001b[0;32m   1306\u001b[0m \u001b[39mif\u001b[39;00m missing \u001b[39m==\u001b[39m \u001b[39mlen\u001b[39m(indexer):\n\u001b[0;32m   1307\u001b[0m     axis_name \u001b[39m=\u001b[39m \u001b[39mself\u001b[39m\u001b[39m.\u001b[39mobj\u001b[39m.\u001b[39m_get_axis_name(axis)\n\u001b[1;32m-> 1308\u001b[0m     \u001b[39mraise\u001b[39;00m \u001b[39mKeyError\u001b[39;00m(\u001b[39mf\u001b[39m\u001b[39m\"\u001b[39m\u001b[39mNone of [\u001b[39m\u001b[39m{\u001b[39;00mkey\u001b[39m}\u001b[39;00m\u001b[39m] are in the [\u001b[39m\u001b[39m{\u001b[39;00maxis_name\u001b[39m}\u001b[39;00m\u001b[39m]\u001b[39m\u001b[39m\"\u001b[39m)\n\u001b[0;32m   1310\u001b[0m ax \u001b[39m=\u001b[39m \u001b[39mself\u001b[39m\u001b[39m.\u001b[39mobj\u001b[39m.\u001b[39m_get_axis(axis)\n\u001b[0;32m   1312\u001b[0m \u001b[39m# We (temporarily) allow for some missing keys with .loc, except in\u001b[39;00m\n\u001b[0;32m   1313\u001b[0m \u001b[39m# some cases (e.g. setting) in which \"raise_missing\" will be False\u001b[39;00m\n",
      "\u001b[1;31mKeyError\u001b[0m: \"None of [Int64Index([2401, 2401, 2401, 2401, 2401, 2401, 2402, 2402, 2402, 2402,\\n            ...\\n            9199, 9199, 9199, 9199, 9200, 9200, 9200, 9200, 9200, 9200],\\n           dtype='int64', length=43013)] are in the [columns]\""
     ]
    }
   ],
   "source": [
    "split_df = split_data_using_percentage(cleaned_df, 10, 'sentiment')"
   ]
  },
  {
   "cell_type": "code",
   "execution_count": null,
   "id": "5d183851",
   "metadata": {},
   "outputs": [],
   "source": [
    "# split_df"
   ]
  },
  {
   "cell_type": "code",
   "execution_count": null,
   "id": "39eec723",
   "metadata": {},
   "outputs": [],
   "source": []
  }
 ],
 "metadata": {
  "kernelspec": {
   "display_name": "base",
   "language": "python",
   "name": "python3"
  },
  "language_info": {
   "codemirror_mode": {
    "name": "ipython",
    "version": 3
   },
   "file_extension": ".py",
   "mimetype": "text/x-python",
   "name": "python",
   "nbconvert_exporter": "python",
   "pygments_lexer": "ipython3",
   "version": "3.8.8"
  },
  "vscode": {
   "interpreter": {
    "hash": "198dc38c81252feb4faa0d475279f5f6c993dd4570bd3709069413259282040c"
   }
  }
 },
 "nbformat": 4,
 "nbformat_minor": 5
}
