{
 "cells": [
  {
   "cell_type": "code",
   "execution_count": 149,
   "metadata": {},
   "outputs": [],
   "source": [
    "import pandas as pd\n",
    "import matplotlib.pyplot as plt\n",
    "import numpy as np\n",
    "import seaborn as sb\n",
    "from sklearn.linear_model import LogisticRegression\n",
    "from sklearn.feature_extraction.text import CountVectorizer, TfidfVectorizer\n",
    "from sklearn.model_selection import train_test_split\n",
    "from sklearn.metrics import classification_report, confusion_matrix\n",
    "from tensorflow.keras.preprocessing.sequence import pad_sequences\n",
    "import re"
   ]
  },
  {
   "cell_type": "code",
   "execution_count": 150,
   "metadata": {},
   "outputs": [
    {
     "data": {
      "text/html": [
       "<div>\n",
       "<style scoped>\n",
       "    .dataframe tbody tr th:only-of-type {\n",
       "        vertical-align: middle;\n",
       "    }\n",
       "\n",
       "    .dataframe tbody tr th {\n",
       "        vertical-align: top;\n",
       "    }\n",
       "\n",
       "    .dataframe thead th {\n",
       "        text-align: right;\n",
       "    }\n",
       "</style>\n",
       "<table border=\"1\" class=\"dataframe\">\n",
       "  <thead>\n",
       "    <tr style=\"text-align: right;\">\n",
       "      <th></th>\n",
       "      <th>tweet</th>\n",
       "      <th>label</th>\n",
       "    </tr>\n",
       "  </thead>\n",
       "  <tbody>\n",
       "    <tr>\n",
       "      <th>0</th>\n",
       "      <td>im get borderland murder</td>\n",
       "      <td>1</td>\n",
       "    </tr>\n",
       "    <tr>\n",
       "      <th>1</th>\n",
       "      <td>come border kill</td>\n",
       "      <td>1</td>\n",
       "    </tr>\n",
       "    <tr>\n",
       "      <th>2</th>\n",
       "      <td>im get borderland kill</td>\n",
       "      <td>1</td>\n",
       "    </tr>\n",
       "    <tr>\n",
       "      <th>3</th>\n",
       "      <td>im come borderland murder</td>\n",
       "      <td>1</td>\n",
       "    </tr>\n",
       "    <tr>\n",
       "      <th>4</th>\n",
       "      <td>im get borderland 2 murder</td>\n",
       "      <td>1</td>\n",
       "    </tr>\n",
       "    <tr>\n",
       "      <th>5</th>\n",
       "      <td>im get borderland murder</td>\n",
       "      <td>1</td>\n",
       "    </tr>\n",
       "    <tr>\n",
       "      <th>6</th>\n",
       "      <td>spent hour make someth fun    know huge fan ma...</td>\n",
       "      <td>1</td>\n",
       "    </tr>\n",
       "    <tr>\n",
       "      <th>7</th>\n",
       "      <td>spent coupl hour someth fun know im huge borde...</td>\n",
       "      <td>1</td>\n",
       "    </tr>\n",
       "    <tr>\n",
       "      <th>8</th>\n",
       "      <td>spent hour someth fun know im huge borderland ...</td>\n",
       "      <td>1</td>\n",
       "    </tr>\n",
       "    <tr>\n",
       "      <th>9</th>\n",
       "      <td>spent hour make someth fun    know huge rhandl...</td>\n",
       "      <td>1</td>\n",
       "    </tr>\n",
       "  </tbody>\n",
       "</table>\n",
       "</div>"
      ],
      "text/plain": [
       "                                               tweet  label\n",
       "0                           im get borderland murder      1\n",
       "1                                   come border kill      1\n",
       "2                             im get borderland kill      1\n",
       "3                          im come borderland murder      1\n",
       "4                         im get borderland 2 murder      1\n",
       "5                           im get borderland murder      1\n",
       "6  spent hour make someth fun    know huge fan ma...      1\n",
       "7  spent coupl hour someth fun know im huge borde...      1\n",
       "8  spent hour someth fun know im huge borderland ...      1\n",
       "9  spent hour make someth fun    know huge rhandl...      1"
      ]
     },
     "execution_count": 150,
     "metadata": {},
     "output_type": "execute_result"
    }
   ],
   "source": [
    "df_tweets = pd.read_csv(\"../Data/cleaned_tweets.csv\")\n",
    "df_tweets = df_tweets[[\"tweet\",\"sentiment\"]]\n",
    "\n",
    "# define a function to add label\n",
    "def row_label(row):\n",
    "    return 1 if row[\"sentiment\"]==\"Positive\" else 0\n",
    "\n",
    "# def remove_brakets(row):\n",
    "#     return row[\"tweet\"].replace(']','').replace\n",
    "def remove_brakets(row):\n",
    "    string= re.sub('\\[|\\]|\\'|\\.|\"|,', '', row[\"tweet\"])\n",
    "    #string = string.replace(\",\",\"\")\n",
    "    return string\n",
    "\n",
    "df_tweets[\"label\"] = df_tweets.apply(row_label, axis=1)\n",
    "df_tweets[\"tweet\"] = df_tweets.apply(remove_brakets, axis=1)\n",
    "df_tweets.drop(\"sentiment\",axis=1, inplace=True)\n",
    "\n",
    "df_tweets.drop_duplicates()\n",
    "#reduce the data\n",
    "df_tweets_inp = df_tweets.sample(frac=0.9, random_state=42)\n",
    "df_test = df_tweets.drop(df_tweets_inp.index)\n",
    "df_test = df_test.sample(frac=0.1, random_state=42)\n",
    "\n",
    "#seperate labelled and unlabelled data\n",
    "df_labeled_data = df_tweets_inp.sample(frac=0.1, random_state=42)\n",
    "df_unlabeled_data = df_tweets_inp.drop(df_labeled_data.index)\n",
    "\n",
    "#print(df_test[df_test[\"label\"]==1].count,df_test[df_test[\"label\"]==0].count)\n",
    "#print(df_labeled_data[df_labeled_data[\"label\"]==1].count,df_labeled_data[df_labeled_data[\"label\"]==0].count)\n",
    "\n",
    "\n",
    "\n",
    "df_tweets.head(10)"
   ]
  },
  {
   "cell_type": "code",
   "execution_count": 151,
   "metadata": {},
   "outputs": [],
   "source": [
    "# convert text data into numerical feature vectors using TF-IDF vectorization\n",
    "vectorizer = TfidfVectorizer()\n",
    "labeled_features = vectorizer.fit_transform(df_labeled_data['tweet'])\n",
    "test_features = vectorizer.transform(df_test['tweet'])"
   ]
  },
  {
   "cell_type": "code",
   "execution_count": 152,
   "metadata": {},
   "outputs": [
    {
     "data": {
      "text/plain": [
       "LogisticRegression()"
      ]
     },
     "execution_count": 152,
     "metadata": {},
     "output_type": "execute_result"
    }
   ],
   "source": [
    "# train a logistic regression model on the labeled data\n",
    "model = LogisticRegression()\n",
    "model.fit(labeled_features, df_labeled_data['label'])"
   ]
  },
  {
   "cell_type": "code",
   "execution_count": 153,
   "metadata": {},
   "outputs": [
    {
     "name": "stdout",
     "output_type": "stream",
     "text": [
      "Accuracy Supervised: 0.8023255813953488\n"
     ]
    }
   ],
   "source": [
    "# evaluate the performance of the model on the test data\n",
    "accuracy = model.score(test_features, df_test['label'])\n",
    "print(\"Accuracy Supervised:\", accuracy)"
   ]
  },
  {
   "cell_type": "code",
   "execution_count": 154,
   "metadata": {},
   "outputs": [],
   "source": [
    "# predict the sentiment of the unlabeled data\n",
    "unlabeled_features = vectorizer.transform(df_unlabeled_data['tweet'])\n",
    "predicted_sentiments = model.predict(unlabeled_features)"
   ]
  },
  {
   "cell_type": "code",
   "execution_count": 155,
   "metadata": {},
   "outputs": [],
   "source": [
    "# select the most confident predictions and add them to the labeled data\n",
    "probabilities = model.predict_proba(unlabeled_features)\n",
    "confidence = np.max(probabilities, axis=1)\n",
    "threshold = np.percentile(confidence, 80)\n",
    "indices = np.where(confidence >= threshold)[0]\n",
    "df_labeled_data = df_labeled_data.append(df_unlabeled_data.iloc[indices])\n",
    "labeled_features = vectorizer.transform(df_labeled_data['tweet'])"
   ]
  },
  {
   "cell_type": "code",
   "execution_count": 156,
   "metadata": {},
   "outputs": [
    {
     "name": "stdout",
     "output_type": "stream",
     "text": [
      "Accuracy: SemiSupervised 0.8116279069767441\n"
     ]
    }
   ],
   "source": [
    "# retrain the model on the updated labeled data\n",
    "model.fit(labeled_features, df_labeled_data['label'])\n",
    "\n",
    "# evaluate the performance of the model on the test data\n",
    "accuracy = model.score(test_features, df_test['label'])\n",
    "print(\"Accuracy: SemiSupervised\", accuracy)"
   ]
  }
 ],
 "metadata": {
  "kernelspec": {
   "display_name": "base",
   "language": "python",
   "name": "python3"
  },
  "language_info": {
   "codemirror_mode": {
    "name": "ipython",
    "version": 3
   },
   "file_extension": ".py",
   "mimetype": "text/x-python",
   "name": "python",
   "nbconvert_exporter": "python",
   "pygments_lexer": "ipython3",
   "version": "3.8.8"
  },
  "orig_nbformat": 4
 },
 "nbformat": 4,
 "nbformat_minor": 2
}
