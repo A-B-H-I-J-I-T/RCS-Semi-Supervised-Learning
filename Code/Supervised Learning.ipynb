{
 "cells": [
  {
   "cell_type": "markdown",
   "id": "593895f6",
   "metadata": {},
   "source": [
    "Importing Libraries"
   ]
  },
  {
   "cell_type": "code",
   "execution_count": 111,
   "id": "6626a88c",
   "metadata": {},
   "outputs": [],
   "source": [
    "import matplotlib.pyplot as plt  #plotting graphs\n",
    "import numpy as np\n",
    "import pandas as pd\n",
    "import seaborn as sb\n",
    "from sklearn.linear_model import LogisticRegression # for classification and matrix\n",
    "from sklearn.feature_extraction.text import CountVectorizer\n",
    "from sklearn.model_selection import train_test_split\n",
    "from sklearn.metrics import classification_report, confusion_matrix"
   ]
  },
  {
   "cell_type": "markdown",
   "id": "df43d64b",
   "metadata": {},
   "source": [
    "Extracting Dataset"
   ]
  },
  {
   "cell_type": "code",
   "execution_count": 112,
   "id": "e5627a27",
   "metadata": {},
   "outputs": [],
   "source": [
    "data = pd.read_csv('cleaned_tweets.csv')"
   ]
  },
  {
   "cell_type": "code",
   "execution_count": 113,
   "id": "ef673a99",
   "metadata": {},
   "outputs": [
    {
     "data": {
      "text/html": [
       "<div>\n",
       "<style scoped>\n",
       "    .dataframe tbody tr th:only-of-type {\n",
       "        vertical-align: middle;\n",
       "    }\n",
       "\n",
       "    .dataframe tbody tr th {\n",
       "        vertical-align: top;\n",
       "    }\n",
       "\n",
       "    .dataframe thead th {\n",
       "        text-align: right;\n",
       "    }\n",
       "</style>\n",
       "<table border=\"1\" class=\"dataframe\">\n",
       "  <thead>\n",
       "    <tr style=\"text-align: right;\">\n",
       "      <th></th>\n",
       "      <th>Unnamed: 0</th>\n",
       "      <th>id</th>\n",
       "      <th>entity</th>\n",
       "      <th>sentiment</th>\n",
       "      <th>tweet</th>\n",
       "    </tr>\n",
       "  </thead>\n",
       "  <tbody>\n",
       "    <tr>\n",
       "      <th>0</th>\n",
       "      <td>0</td>\n",
       "      <td>2401</td>\n",
       "      <td>Borderlands</td>\n",
       "      <td>Positive</td>\n",
       "      <td>['im', 'get', 'borderland', 'murder']</td>\n",
       "    </tr>\n",
       "    <tr>\n",
       "      <th>1</th>\n",
       "      <td>1</td>\n",
       "      <td>2401</td>\n",
       "      <td>Borderlands</td>\n",
       "      <td>Positive</td>\n",
       "      <td>['come', 'border', 'kill']</td>\n",
       "    </tr>\n",
       "    <tr>\n",
       "      <th>2</th>\n",
       "      <td>2</td>\n",
       "      <td>2401</td>\n",
       "      <td>Borderlands</td>\n",
       "      <td>Positive</td>\n",
       "      <td>['im', 'get', 'borderland', 'kill']</td>\n",
       "    </tr>\n",
       "    <tr>\n",
       "      <th>3</th>\n",
       "      <td>3</td>\n",
       "      <td>2401</td>\n",
       "      <td>Borderlands</td>\n",
       "      <td>Positive</td>\n",
       "      <td>['im', 'come', 'borderland', 'murder']</td>\n",
       "    </tr>\n",
       "    <tr>\n",
       "      <th>4</th>\n",
       "      <td>4</td>\n",
       "      <td>2401</td>\n",
       "      <td>Borderlands</td>\n",
       "      <td>Positive</td>\n",
       "      <td>['im', 'get', 'borderland', '2', 'murder']</td>\n",
       "    </tr>\n",
       "  </tbody>\n",
       "</table>\n",
       "</div>"
      ],
      "text/plain": [
       "   Unnamed: 0    id       entity sentiment  \\\n",
       "0           0  2401  Borderlands  Positive   \n",
       "1           1  2401  Borderlands  Positive   \n",
       "2           2  2401  Borderlands  Positive   \n",
       "3           3  2401  Borderlands  Positive   \n",
       "4           4  2401  Borderlands  Positive   \n",
       "\n",
       "                                        tweet  \n",
       "0       ['im', 'get', 'borderland', 'murder']  \n",
       "1                  ['come', 'border', 'kill']  \n",
       "2         ['im', 'get', 'borderland', 'kill']  \n",
       "3      ['im', 'come', 'borderland', 'murder']  \n",
       "4  ['im', 'get', 'borderland', '2', 'murder']  "
      ]
     },
     "execution_count": 113,
     "metadata": {},
     "output_type": "execute_result"
    }
   ],
   "source": [
    "data.head(5)"
   ]
  },
  {
   "cell_type": "code",
   "execution_count": 114,
   "id": "5557a52f",
   "metadata": {},
   "outputs": [
    {
     "name": "stdout",
     "output_type": "stream",
     "text": [
      "(43013, 5)\n",
      "<class 'pandas.core.frame.DataFrame'>\n",
      "RangeIndex: 43013 entries, 0 to 43012\n",
      "Data columns (total 5 columns):\n",
      " #   Column      Non-Null Count  Dtype \n",
      "---  ------      --------------  ----- \n",
      " 0   Unnamed: 0  43013 non-null  int64 \n",
      " 1   id          43013 non-null  int64 \n",
      " 2   entity      43013 non-null  object\n",
      " 3   sentiment   43013 non-null  object\n",
      " 4   tweet       43013 non-null  object\n",
      "dtypes: int64(2), object(3)\n",
      "memory usage: 1.6+ MB\n",
      "None\n"
     ]
    }
   ],
   "source": [
    "print(data.shape)\n",
    "print(data.info())"
   ]
  },
  {
   "cell_type": "markdown",
   "id": "50e67083",
   "metadata": {},
   "source": [
    "Exploratory Data Analysis"
   ]
  },
  {
   "cell_type": "code",
   "execution_count": 115,
   "id": "c20fa8af",
   "metadata": {},
   "outputs": [
    {
     "data": {
      "text/plain": [
       "array(['Positive', 'Negative'], dtype=object)"
      ]
     },
     "execution_count": 115,
     "metadata": {},
     "output_type": "execute_result"
    }
   ],
   "source": [
    "data.sentiment.unique() #two classes for target variable"
   ]
  },
  {
   "cell_type": "code",
   "execution_count": 116,
   "id": "58abae36",
   "metadata": {},
   "outputs": [
    {
     "data": {
      "image/png": "[encoded data removed]",
      "text/plain": [
       "<Figure size 640x480 with 1 Axes>"
      ]
     },
     "metadata": {},
     "output_type": "display_data"
    }
   ],
   "source": [
    "#distribution of classes in dataset\n",
    "classes = data.sentiment.unique()\n",
    "counts = []\n",
    "for i in classes:\n",
    "    count= len(data[data.sentiment==i])\n",
    "    counts.append(count)\n",
    "plt.bar(['neg','pos'],counts)\n",
    "plt.show()"
   ]
  },
  {
   "cell_type": "code",
   "execution_count": 117,
   "id": "801b82e3",
   "metadata": {
    "scrolled": false
   },
   "outputs": [
    {
     "data": {
      "text/plain": [
       "<seaborn.axisgrid.PairGrid at 0x7f84020e3b20>"
      ]
     },
     "execution_count": 117,
     "metadata": {},
     "output_type": "execute_result"
    }
   ],
   "source": [
    "#sb.pairplot(data)"
   ]
  },
  {
   "cell_type": "markdown",
   "id": "158877ec",
   "metadata": {},
   "source": [
    "Splitting the Dataset"
   ]
  },
  {
   "cell_type": "code",
   "execution_count": 118,
   "id": "fa14a162",
   "metadata": {},
   "outputs": [],
   "source": [
    "x = data.tweet.values # test column using tweet\n",
    "y = data.sentiment.values #target column\n"
   ]
  },
  {
   "cell_type": "code",
   "execution_count": 119,
   "id": "9d2108c0",
   "metadata": {},
   "outputs": [],
   "source": [
    "x_train, x_test, y_train, y_test = train_test_split(x,y, random_state = 42,test_size= 0.2)\n"
   ]
  },
  {
   "cell_type": "markdown",
   "id": "05383958",
   "metadata": {},
   "source": [
    "Vectorize"
   ]
  },
  {
   "cell_type": "code",
   "execution_count": 120,
   "id": "5d86617f",
   "metadata": {},
   "outputs": [],
   "source": [
    "#tweet data will be indexed\n",
    "vectorizer = CountVectorizer()\n",
    "vectorizer.fit(x_train)\n",
    "\n",
    "vectorizer.fit(x_test)\n",
    "x_train = vectorizer.transform(x_train)\n",
    "x_test = vectorizer.transform(x_test)\n"
   ]
  },
  {
   "cell_type": "code",
   "execution_count": 122,
   "id": "789b2408",
   "metadata": {},
   "outputs": [
    {
     "name": "stdout",
     "output_type": "stream",
     "text": [
      "before vec;    (0, 2820)\t1\n",
      "  (0, 3516)\t1\n",
      "  (0, 3961)\t1\n",
      "  (0, 5128)\t1\n",
      "  (0, 5784)\t1\n",
      "  (0, 6002)\t1\n",
      "  (0, 6014)\t1\n",
      "  (0, 9208)\t1   after vec :    (0, 2820)\t1\n",
      "  (0, 3516)\t1\n",
      "  (0, 3961)\t1\n",
      "  (0, 5128)\t1\n",
      "  (0, 5784)\t1\n",
      "  (0, 6002)\t1\n",
      "  (0, 6014)\t1\n",
      "  (0, 9208)\t1\n"
     ]
    }
   ],
   "source": [
    "print(\"after vectorising : \" ,x_train[0])"
   ]
  },
  {
   "cell_type": "markdown",
   "id": "640a10bf",
   "metadata": {},
   "source": [
    "Building the MOdel"
   ]
  },
  {
   "cell_type": "code",
   "execution_count": 123,
   "id": "559bd58a",
   "metadata": {},
   "outputs": [
    {
     "data": {
      "text/plain": [
       "LogisticRegression(max_iter=1000)"
      ]
     },
     "execution_count": 123,
     "metadata": {},
     "output_type": "execute_result"
    }
   ],
   "source": [
    "#using logistic regression for binary classification\n",
    "classifier = LogisticRegression (max_iter=1000)\n",
    "classifier.fit(x_train,y_train)"
   ]
  },
  {
   "cell_type": "code",
   "execution_count": 124,
   "id": "9220c81b",
   "metadata": {},
   "outputs": [
    {
     "name": "stdout",
     "output_type": "stream",
     "text": [
      "accuracy 0.8935255143554574\n"
     ]
    }
   ],
   "source": [
    "score = classifier.score(x_test, y_test)\n",
    "print(\"accuracy\", score)"
   ]
  },
  {
   "cell_type": "markdown",
   "id": "ae234b72",
   "metadata": {},
   "source": [
    "Confusion Matrix"
   ]
  },
  {
   "cell_type": "code",
   "execution_count": 73,
   "id": "b341fbf3",
   "metadata": {},
   "outputs": [
    {
     "data": {
      "text/html": [
       "<div>\n",
       "<style scoped>\n",
       "    .dataframe tbody tr th:only-of-type {\n",
       "        vertical-align: middle;\n",
       "    }\n",
       "\n",
       "    .dataframe tbody tr th {\n",
       "        vertical-align: top;\n",
       "    }\n",
       "\n",
       "    .dataframe thead th {\n",
       "        text-align: right;\n",
       "    }\n",
       "</style>\n",
       "<table border=\"1\" class=\"dataframe\">\n",
       "  <thead>\n",
       "    <tr style=\"text-align: right;\">\n",
       "      <th></th>\n",
       "      <th>Positive</th>\n",
       "      <th>Negative</th>\n",
       "    </tr>\n",
       "  </thead>\n",
       "  <tbody>\n",
       "    <tr>\n",
       "      <th>Positive</th>\n",
       "      <td>3638</td>\n",
       "      <td>498</td>\n",
       "    </tr>\n",
       "    <tr>\n",
       "      <th>Negative</th>\n",
       "      <td>418</td>\n",
       "      <td>4049</td>\n",
       "    </tr>\n",
       "  </tbody>\n",
       "</table>\n",
       "</div>"
      ],
      "text/plain": [
       "          Positive  Negative\n",
       "Positive      3638       498\n",
       "Negative       418      4049"
      ]
     },
     "execution_count": 73,
     "metadata": {},
     "output_type": "execute_result"
    }
   ],
   "source": [
    "y_pred =  classifier.predict(x_test)\n",
    "cm = confusion_matrix(y_test, y_pred, labels = data.sentiment.unique())\n",
    "data_cm =  pd.DataFrame(cm, index = data.sentiment.unique(), columns = data.sentiment.unique()) \n",
    "data_cm"
   ]
  },
  {
   "cell_type": "markdown",
   "id": "ce0dd4ce",
   "metadata": {},
   "source": [
    "Percentage Representation"
   ]
  },
  {
   "cell_type": "code",
   "execution_count": 125,
   "id": "11cd93a6",
   "metadata": {},
   "outputs": [
    {
     "data": {
      "text/html": [
       "<div>\n",
       "<style scoped>\n",
       "    .dataframe tbody tr th:only-of-type {\n",
       "        vertical-align: middle;\n",
       "    }\n",
       "\n",
       "    .dataframe tbody tr th {\n",
       "        vertical-align: top;\n",
       "    }\n",
       "\n",
       "    .dataframe thead th {\n",
       "        text-align: right;\n",
       "    }\n",
       "</style>\n",
       "<table border=\"1\" class=\"dataframe\">\n",
       "  <thead>\n",
       "    <tr style=\"text-align: right;\">\n",
       "      <th></th>\n",
       "      <th>Positive</th>\n",
       "      <th>Negative</th>\n",
       "    </tr>\n",
       "  </thead>\n",
       "  <tbody>\n",
       "    <tr>\n",
       "      <th>Positive</th>\n",
       "      <td>0.896943</td>\n",
       "      <td>0.109523</td>\n",
       "    </tr>\n",
       "    <tr>\n",
       "      <th>Negative</th>\n",
       "      <td>0.103057</td>\n",
       "      <td>0.890477</td>\n",
       "    </tr>\n",
       "  </tbody>\n",
       "</table>\n",
       "</div>"
      ],
      "text/plain": [
       "          Positive  Negative\n",
       "Positive  0.896943  0.109523\n",
       "Negative  0.103057  0.890477"
      ]
     },
     "execution_count": 125,
     "metadata": {},
     "output_type": "execute_result"
    }
   ],
   "source": [
    "data_cm_percentage = data_cm.copy()\n",
    "for i in data_cm_percentage:\n",
    "    data_cm_percentage[i] = data_cm_percentage[i] /data_cm_percentage[i].sum()\n",
    "    \n",
    "data_cm_percentage\n"
   ]
  },
  {
   "cell_type": "code",
   "execution_count": 126,
   "id": "d153e4fe",
   "metadata": {},
   "outputs": [
    {
     "data": {
      "text/plain": [
       "<8603x9394 sparse matrix of type '<class 'numpy.int64'>'\n",
       "\twith 85734 stored elements in Compressed Sparse Row format>"
      ]
     },
     "execution_count": 126,
     "metadata": {},
     "output_type": "execute_result"
    }
   ],
   "source": [
    "x_test"
   ]
  },
  {
   "cell_type": "markdown",
   "id": "ade9cd81",
   "metadata": {},
   "source": [
    "Testing"
   ]
  },
  {
   "cell_type": "code",
   "execution_count": 129,
   "id": "cf551e56",
   "metadata": {},
   "outputs": [
    {
     "name": "stdout",
     "output_type": "stream",
     "text": [
      "Tweet is positive\n"
     ]
    }
   ],
   "source": [
    "tweet = 'Well done, Congrats'\n",
    "vectTweet =  vectorizer.transform(np.array([tweet ])) #vectorize the tweet using the vectorizer \n",
    "prediction = classifier.predict(vectTweet) #to predict the class of the tweet \n",
    "print('Tweet is','positive' if prediction[0]== \"Positive\" else 'negative')\n",
    "      "
   ]
  }
 ],
 "metadata": {
  "kernelspec": {
   "display_name": "Python 3 (ipykernel)",
   "language": "python",
   "name": "python3"
  },
  "language_info": {
   "codemirror_mode": {
    "name": "ipython",
    "version": 3
   },
   "file_extension": ".py",
   "mimetype": "text/x-python",
   "name": "python",
   "nbconvert_exporter": "python",
   "pygments_lexer": "ipython3",
   "version": "3.9.13"
  }
 },
 "nbformat": 4,
 "nbformat_minor": 5
}
