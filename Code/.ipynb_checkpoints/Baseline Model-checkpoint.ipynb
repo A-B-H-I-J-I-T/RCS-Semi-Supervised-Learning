{
 "cells": [
  {
   "cell_type": "code",
   "execution_count": 1,
   "id": "636de6ba",
   "metadata": {},
   "outputs": [],
   "source": [
    "class BaselineModel:\n",
    "    def __init__(self, classifier, vectorizer):\n",
    "        self.classifier = classifier\n",
    "        self.vectorizer = vectorizer\n",
    "        \n",
    "    def fit(self, data):\n",
    "        self.vectorizer.fit_transform(data)\n",
    "        \n",
    "    def transform(self, data):\n",
    "        self.classifier.fit(data)\n",
    "        \n",
    "    def predict(self, data):\n",
    "        transformed_data = self.classifier.transform(data)\n",
    "        return self.classifier.predict(transformed_data)"
   ]
  },
  {
   "cell_type": "code",
   "execution_count": null,
   "id": "8aa69abe",
   "metadata": {},
   "outputs": [],
   "source": []
  }
 ],
 "metadata": {
  "kernelspec": {
   "display_name": "Python 3 (ipykernel)",
   "language": "python",
   "name": "python3"
  },
  "language_info": {
   "codemirror_mode": {
    "name": "ipython",
    "version": 3
   },
   "file_extension": ".py",
   "mimetype": "text/x-python",
   "name": "python",
   "nbconvert_exporter": "python",
   "pygments_lexer": "ipython3",
   "version": "3.9.7"
  }
 },
 "nbformat": 4,
 "nbformat_minor": 5
}
