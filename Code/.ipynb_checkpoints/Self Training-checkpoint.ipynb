{
 "cells": [
  {
   "cell_type": "markdown",
   "id": "2e19f3df",
   "metadata": {},
   "source": [
    "### Cleaned Data Import"
   ]
  },
  {
   "cell_type": "code",
   "execution_count": 1,
   "id": "b84f9e85",
   "metadata": {},
   "outputs": [],
   "source": [
    "import pandas as pd"
   ]
  },
  {
   "cell_type": "code",
   "execution_count": 2,
   "id": "70d1f554",
   "metadata": {},
   "outputs": [],
   "source": [
    "cleaned_df = pd.read_csv('../Data/cleaned_tweets.csv')"
   ]
  },
  {
   "cell_type": "code",
   "execution_count": 3,
   "id": "6a4dbdb4",
   "metadata": {},
   "outputs": [
    {
     "data": {
      "text/plain": [
       "Index(['Unnamed: 0', 'id', 'entity', 'sentiment', 'tweet'], dtype='object')"
      ]
     },
     "execution_count": 3,
     "metadata": {},
     "output_type": "execute_result"
    }
   ],
   "source": [
    "cleaned_df.columns"
   ]
  },
  {
   "cell_type": "code",
   "execution_count": 4,
   "id": "c4f03b64",
   "metadata": {},
   "outputs": [],
   "source": [
    "cleaned_df.drop('Unnamed: 0', inplace=True, axis=1)"
   ]
  },
  {
   "cell_type": "code",
   "execution_count": 5,
   "id": "72e19661",
   "metadata": {},
   "outputs": [
    {
     "data": {
      "text/html": [
       "<div>\n",
       "<style scoped>\n",
       "    .dataframe tbody tr th:only-of-type {\n",
       "        vertical-align: middle;\n",
       "    }\n",
       "\n",
       "    .dataframe tbody tr th {\n",
       "        vertical-align: top;\n",
       "    }\n",
       "\n",
       "    .dataframe thead th {\n",
       "        text-align: right;\n",
       "    }\n",
       "</style>\n",
       "<table border=\"1\" class=\"dataframe\">\n",
       "  <thead>\n",
       "    <tr style=\"text-align: right;\">\n",
       "      <th></th>\n",
       "      <th>id</th>\n",
       "      <th>entity</th>\n",
       "      <th>sentiment</th>\n",
       "      <th>tweet</th>\n",
       "    </tr>\n",
       "  </thead>\n",
       "  <tbody>\n",
       "    <tr>\n",
       "      <th>0</th>\n",
       "      <td>2401</td>\n",
       "      <td>Borderlands</td>\n",
       "      <td>Positive</td>\n",
       "      <td>['im', 'get', 'borderland', 'murder']</td>\n",
       "    </tr>\n",
       "    <tr>\n",
       "      <th>1</th>\n",
       "      <td>2401</td>\n",
       "      <td>Borderlands</td>\n",
       "      <td>Positive</td>\n",
       "      <td>['come', 'border', 'kill']</td>\n",
       "    </tr>\n",
       "    <tr>\n",
       "      <th>2</th>\n",
       "      <td>2401</td>\n",
       "      <td>Borderlands</td>\n",
       "      <td>Positive</td>\n",
       "      <td>['im', 'get', 'borderland', 'kill']</td>\n",
       "    </tr>\n",
       "    <tr>\n",
       "      <th>3</th>\n",
       "      <td>2401</td>\n",
       "      <td>Borderlands</td>\n",
       "      <td>Positive</td>\n",
       "      <td>['im', 'come', 'borderland', 'murder']</td>\n",
       "    </tr>\n",
       "    <tr>\n",
       "      <th>4</th>\n",
       "      <td>2401</td>\n",
       "      <td>Borderlands</td>\n",
       "      <td>Positive</td>\n",
       "      <td>['im', 'get', 'borderland', '2', 'murder']</td>\n",
       "    </tr>\n",
       "  </tbody>\n",
       "</table>\n",
       "</div>"
      ],
      "text/plain": [
       "     id       entity sentiment                                       tweet\n",
       "0  2401  Borderlands  Positive       ['im', 'get', 'borderland', 'murder']\n",
       "1  2401  Borderlands  Positive                  ['come', 'border', 'kill']\n",
       "2  2401  Borderlands  Positive         ['im', 'get', 'borderland', 'kill']\n",
       "3  2401  Borderlands  Positive      ['im', 'come', 'borderland', 'murder']\n",
       "4  2401  Borderlands  Positive  ['im', 'get', 'borderland', '2', 'murder']"
      ]
     },
     "execution_count": 5,
     "metadata": {},
     "output_type": "execute_result"
    }
   ],
   "source": [
    "cleaned_df.head(5)"
   ]
  },
  {
   "cell_type": "markdown",
   "id": "ef573fd4",
   "metadata": {},
   "source": [
    "### Baseline model for self-training"
   ]
  },
  {
   "cell_type": "code",
   "execution_count": 6,
   "id": "87623104",
   "metadata": {},
   "outputs": [],
   "source": [
    "from BaselineModel import BaselineModel"
   ]
  },
  {
   "cell_type": "markdown",
   "id": "e80097b3",
   "metadata": {},
   "source": [
    "### 1. Logistic Regression"
   ]
  },
  {
   "cell_type": "code",
   "execution_count": 7,
   "id": "4a312016",
   "metadata": {},
   "outputs": [],
   "source": [
    "from sklearn.feature_extraction.text import CountVectorizer, TfidfVectorizer\n",
    "from sklearn.linear_model import LogisticRegression"
   ]
  },
  {
   "cell_type": "code",
   "execution_count": 8,
   "id": "e0d529c1",
   "metadata": {},
   "outputs": [],
   "source": [
    "count_vectorizer = CountVectorizer()"
   ]
  },
  {
   "cell_type": "code",
   "execution_count": 9,
   "id": "24e78963",
   "metadata": {},
   "outputs": [],
   "source": [
    "logistic_regression = LogisticRegression()"
   ]
  },
  {
   "cell_type": "code",
   "execution_count": 10,
   "id": "1575f8c5",
   "metadata": {},
   "outputs": [],
   "source": [
    "lr_baseline_model = BaselineModel(classifier=logistic_regression, vectorizer=count_vectorizer)"
   ]
  },
  {
   "cell_type": "code",
   "execution_count": 11,
   "id": "e689c441",
   "metadata": {},
   "outputs": [
    {
     "data": {
      "text/plain": [
       "<4x4 sparse matrix of type '<class 'numpy.int64'>'\n",
       "\twith 4 stored elements in Compressed Sparse Row format>"
      ]
     },
     "execution_count": 11,
     "metadata": {},
     "output_type": "execute_result"
    }
   ],
   "source": [
    "lr_baseline_model.fit_transform(cleaned_df)"
   ]
  },
  {
   "cell_type": "code",
   "execution_count": 12,
   "id": "b2376e5e",
   "metadata": {},
   "outputs": [],
   "source": [
    "from helpers import split_data_using_percentage"
   ]
  },
  {
   "cell_type": "code",
   "execution_count": 13,
   "id": "e8e44b0f",
   "metadata": {},
   "outputs": [],
   "source": [
    "split_df = split_data_using_percentage(cleaned_df, 10, 'sentiment')"
   ]
  },
  {
   "cell_type": "code",
   "execution_count": 14,
   "id": "1f40ece2",
   "metadata": {},
   "outputs": [
    {
     "data": {
      "text/html": [
       "<div>\n",
       "<style scoped>\n",
       "    .dataframe tbody tr th:only-of-type {\n",
       "        vertical-align: middle;\n",
       "    }\n",
       "\n",
       "    .dataframe tbody tr th {\n",
       "        vertical-align: top;\n",
       "    }\n",
       "\n",
       "    .dataframe thead th {\n",
       "        text-align: right;\n",
       "    }\n",
       "</style>\n",
       "<table border=\"1\" class=\"dataframe\">\n",
       "  <thead>\n",
       "    <tr style=\"text-align: right;\">\n",
       "      <th></th>\n",
       "      <th>id</th>\n",
       "      <th>entity</th>\n",
       "      <th>sentiment</th>\n",
       "      <th>tweet</th>\n",
       "    </tr>\n",
       "  </thead>\n",
       "  <tbody>\n",
       "    <tr>\n",
       "      <th>16756</th>\n",
       "      <td>696</td>\n",
       "      <td>ApexLegends</td>\n",
       "      <td>Positive</td>\n",
       "      <td>['anoth', 'epic', 'night', 'kill', 'non-win', ...</td>\n",
       "    </tr>\n",
       "    <tr>\n",
       "      <th>5688</th>\n",
       "      <td>12996</td>\n",
       "      <td>Xbox(Xseries)</td>\n",
       "      <td>Positive</td>\n",
       "      <td>[]</td>\n",
       "    </tr>\n",
       "    <tr>\n",
       "      <th>1512</th>\n",
       "      <td>1617</td>\n",
       "      <td>CallOfDutyBlackopsColdWar</td>\n",
       "      <td>Negative</td>\n",
       "      <td>['black', 'cold', 'war', 'look', 'bore', 'imo'...</td>\n",
       "    </tr>\n",
       "    <tr>\n",
       "      <th>17023</th>\n",
       "      <td>789</td>\n",
       "      <td>ApexLegends</td>\n",
       "      <td>Positive</td>\n",
       "      <td>['glad', 'back', 'rhandlerr', 'one', 'day', 'w...</td>\n",
       "    </tr>\n",
       "    <tr>\n",
       "      <th>28501</th>\n",
       "      <td>6192</td>\n",
       "      <td>FIFA</td>\n",
       "      <td>Negative</td>\n",
       "      <td>['fifa', 'chang', 'video', 'wake', 'crimin', '...</td>\n",
       "    </tr>\n",
       "    <tr>\n",
       "      <th>41991</th>\n",
       "      <td>8876</td>\n",
       "      <td>Nvidia</td>\n",
       "      <td>Negative</td>\n",
       "      <td>['2.5', 'gbit', 'serious', 'threat', 'nvidia',...</td>\n",
       "    </tr>\n",
       "    <tr>\n",
       "      <th>23253</th>\n",
       "      <td>1579</td>\n",
       "      <td>Battlefield</td>\n",
       "      <td>Negative</td>\n",
       "      <td>['updat', '. .', 'play', 'battlefield', '4', '...</td>\n",
       "    </tr>\n",
       "    <tr>\n",
       "      <th>32296</th>\n",
       "      <td>11290</td>\n",
       "      <td>TomClancysRainbowSix</td>\n",
       "      <td>Positive</td>\n",
       "      <td>['stream', 'rank', 'sieg', 'friend', '. .', 't...</td>\n",
       "    </tr>\n",
       "    <tr>\n",
       "      <th>34349</th>\n",
       "      <td>3562</td>\n",
       "      <td>Facebook</td>\n",
       "      <td>Negative</td>\n",
       "      <td>['disgust', 'call', 'asshol']</td>\n",
       "    </tr>\n",
       "    <tr>\n",
       "      <th>40456</th>\n",
       "      <td>10870</td>\n",
       "      <td>TomClancysGhostRecon</td>\n",
       "      <td>Negative</td>\n",
       "      <td>['3080', 'yard', 'run']</td>\n",
       "    </tr>\n",
       "  </tbody>\n",
       "</table>\n",
       "</div>"
      ],
      "text/plain": [
       "          id                     entity sentiment  \\\n",
       "16756    696                ApexLegends  Positive   \n",
       "5688   12996              Xbox(Xseries)  Positive   \n",
       "1512    1617  CallOfDutyBlackopsColdWar  Negative   \n",
       "17023    789                ApexLegends  Positive   \n",
       "28501   6192                       FIFA  Negative   \n",
       "41991   8876                     Nvidia  Negative   \n",
       "23253   1579                Battlefield  Negative   \n",
       "32296  11290       TomClancysRainbowSix  Positive   \n",
       "34349   3562                   Facebook  Negative   \n",
       "40456  10870       TomClancysGhostRecon  Negative   \n",
       "\n",
       "                                                   tweet  \n",
       "16756  ['anoth', 'epic', 'night', 'kill', 'non-win', ...  \n",
       "5688                                                  []  \n",
       "1512   ['black', 'cold', 'war', 'look', 'bore', 'imo'...  \n",
       "17023  ['glad', 'back', 'rhandlerr', 'one', 'day', 'w...  \n",
       "28501  ['fifa', 'chang', 'video', 'wake', 'crimin', '...  \n",
       "41991  ['2.5', 'gbit', 'serious', 'threat', 'nvidia',...  \n",
       "23253  ['updat', '. .', 'play', 'battlefield', '4', '...  \n",
       "32296  ['stream', 'rank', 'sieg', 'friend', '. .', 't...  \n",
       "34349                      ['disgust', 'call', 'asshol']  \n",
       "40456                            ['3080', 'yard', 'run']  "
      ]
     },
     "execution_count": 14,
     "metadata": {},
     "output_type": "execute_result"
    }
   ],
   "source": [
    "# split_df"
   ]
  },
  {
   "cell_type": "code",
   "execution_count": null,
   "id": "1215c0c2",
   "metadata": {},
   "outputs": [],
   "source": []
  }
 ],
 "metadata": {
  "kernelspec": {
   "display_name": "Python 3 (ipykernel)",
   "language": "python",
   "name": "python3"
  },
  "language_info": {
   "codemirror_mode": {
    "name": "ipython",
    "version": 3
   },
   "file_extension": ".py",
   "mimetype": "text/x-python",
   "name": "python",
   "nbconvert_exporter": "python",
   "pygments_lexer": "ipython3",
   "version": "3.9.7"
  }
 },
 "nbformat": 4,
 "nbformat_minor": 5
}
